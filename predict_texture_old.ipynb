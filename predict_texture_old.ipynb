{
 "cells": [
  {
   "cell_type": "code",
   "execution_count": 1,
   "metadata": {
    "id": "_Ip8kp4TfBLZ"
   },
   "outputs": [],
   "source": [
    "# Copyright (c) Facebook, Inc. and its affiliates. All rights reserved."
   ]
  },
  {
   "cell_type": "markdown",
   "metadata": {
    "id": "kuXHJv44fBLe",
    "tags": []
   },
   "source": [
    "# Fit a mesh via rendering\n",
    "\n",
    "This tutorial shows how to:\n",
    "- Load a mesh and textures from an `.obj` file. \n",
    "- Create a synthetic dataset by rendering a textured mesh from multiple viewpoints\n",
    "- Fit a mesh to the observed synthetic images using differential silhouette rendering\n",
    "- Fit a mesh and its textures using differential textured rendering"
   ]
  },
  {
   "cell_type": "markdown",
   "metadata": {
    "id": "Bnj3THhzfBLf"
   },
   "source": [
    "## 0. Install and Import modules"
   ]
  },
  {
   "cell_type": "markdown",
   "metadata": {
    "id": "okLalbR_g7NS"
   },
   "source": [
    "Ensure `torch` and `torchvision` are installed. If `pytorch3d` is not installed, install it using the following cell:"
   ]
  },
  {
   "cell_type": "code",
   "execution_count": 2,
   "metadata": {
    "colab": {
     "base_uri": "https://localhost:8080/"
    },
    "id": "musUWTglgxSB",
    "outputId": "87949bd1-3c9c-4036-b42a-38bca6b3d9c7"
   },
   "outputs": [],
   "source": [
    "import json\n",
    "from collections import defaultdict\n",
    "import time\n",
    "import itertools\n",
    "import os\n",
    "import sys\n",
    "import torch\n",
    "need_pytorch3d=False\n",
    "try:\n",
    "    import pytorch3d\n",
    "except ModuleNotFoundError:\n",
    "    need_pytorch3d=True\n",
    "if need_pytorch3d:\n",
    "    if torch.__version__.startswith(\"1.10.\") and sys.platform.startswith(\"linux\"):\n",
    "        # We try to install PyTorch3D via a released wheel.\n",
    "        pyt_version_str=torch.__version__.split(\"+\")[0].replace(\".\", \"\")\n",
    "        version_str=\"\".join([\n",
    "            f\"py3{sys.version_info.minor}_cu\",\n",
    "            torch.version.cuda.replace(\".\",\"\"),\n",
    "            f\"_pyt{pyt_version_str}\"\n",
    "        ])\n",
    "        !pip install pytorch3d -f https://dl.fbaipublicfiles.com/pytorch3d/packaging/wheels/{version_str}/download.html\n",
    "    else:\n",
    "        # We try to install PyTorch3D from source.\n",
    "        !curl -LO https://github.com/NVIDIA/cub/archive/1.10.0.tar.gz\n",
    "        !tar xzf 1.10.0.tar.gz\n",
    "        os.environ[\"CUB_HOME\"] = os.getcwd() + \"/cub-1.10.0\"\n",
    "        !pip install 'git+https://github.com/facebookresearch/pytorch3d.git'\n"
   ]
  },
  {
   "cell_type": "code",
   "execution_count": 3,
   "metadata": {
    "colab": {
     "base_uri": "https://localhost:8080/",
     "height": 374
    },
    "id": "nX99zdoffBLg",
    "outputId": "6c0b2cad-ab42-413f-91d8-d2bec417f27d"
   },
   "outputs": [],
   "source": [
    "import os\n",
    "import torch\n",
    "import matplotlib.pyplot as plt\n",
    "%matplotlib inline\n",
    "\n",
    "\n",
    "from pytorch3d.utils import ico_sphere\n",
    "import numpy as np\n",
    "from tqdm.notebook import tqdm\n",
    "\n",
    "# Util function for loading meshes\n",
    "from pytorch3d.io import load_objs_as_meshes, save_obj\n",
    "\n",
    "from pytorch3d.loss import (\n",
    "    chamfer_distance, \n",
    "    mesh_edge_loss, \n",
    "    mesh_laplacian_smoothing, \n",
    "    mesh_normal_consistency,\n",
    ")\n",
    "\n",
    "# Data structures and functions for rendering\n",
    "from pytorch3d.structures import Meshes\n",
    "from pytorch3d.renderer import (\n",
    "    look_at_view_transform,\n",
    "    OpenGLPerspectiveCameras, \n",
    "    PointLights, \n",
    "    DirectionalLights, \n",
    "    Materials, \n",
    "    RasterizationSettings, \n",
    "    MeshRenderer, \n",
    "    MeshRasterizer,  \n",
    "    SoftPhongShader,\n",
    "    SoftSilhouetteShader,\n",
    "    SoftPhongShader,\n",
    "    TexturesVertex,\n",
    "    AmbientLights\n",
    ")\n",
    "\n",
    "# add path for demo utils functions \n",
    "import sys\n",
    "import os\n",
    "sys.path.append(os.path.abspath(''))\n",
    "\n",
    "import wandb\n",
    "\n"
   ]
  },
  {
   "cell_type": "markdown",
   "metadata": {
    "id": "Lxmehq6Zhrzv"
   },
   "source": [
    "If using **Google Colab**, fetch the utils file for plotting image grids:"
   ]
  },
  {
   "cell_type": "code",
   "execution_count": 4,
   "metadata": {
    "id": "HZozr3Pmho-5"
   },
   "outputs": [],
   "source": [
    "# !wget https://raw.githubusercontent.com/facebookresearch/pytorch3d/main/docs/tutorials/utils/plot_image_grid.py\n",
    "# from plot_image_grid import image_grid"
   ]
  },
  {
   "cell_type": "markdown",
   "metadata": {
    "id": "g4B62MzYiJUM"
   },
   "source": [
    "OR if running **locally** uncomment and run the following cell:"
   ]
  },
  {
   "cell_type": "code",
   "execution_count": 5,
   "metadata": {
    "id": "paJ4Im8ahl7O",
    "tags": []
   },
   "outputs": [],
   "source": [
    " # from plot_image_grid import image_grid"
   ]
  },
  {
   "cell_type": "markdown",
   "metadata": {
    "id": "5jGq772XfBLk"
   },
   "source": [
    "### 1. Load a mesh and texture file\n",
    "\n",
    "Load an `.obj` file and its associated `.mtl` file and create a **Textures** and **Meshes** object. \n",
    "\n",
    "**Meshes** is a unique datastructure provided in PyTorch3D for working with batches of meshes of different sizes. \n",
    "\n",
    "**TexturesVertex** is an auxiliary datastructure for storing vertex rgb texture information about meshes. \n",
    "\n",
    "**Meshes** has several class methods which are used throughout the rendering pipeline."
   ]
  },
  {
   "cell_type": "markdown",
   "metadata": {
    "id": "a8eU4zo5jd_H"
   },
   "source": [
    "If running this notebook using **Google Colab**, run the following cell to fetch the mesh obj and texture files and save it at the path `data/cow_mesh`:\n",
    "If running locally, the data is already available at the correct path. "
   ]
  },
  {
   "cell_type": "code",
   "execution_count": 6,
   "metadata": {
    "id": "gi5Kd0GafBLl"
   },
   "outputs": [],
   "source": [
    "# Setup\n",
    "if torch.cuda.is_available():\n",
    "    device = torch.device(\"cuda:0\")\n",
    "    torch.cuda.set_device(device)\n",
    "else:\n",
    "    device = torch.device(\"cpu\")\n"
   ]
  },
  {
   "cell_type": "code",
   "execution_count": 7,
   "metadata": {},
   "outputs": [],
   "source": [
    "# the number of different viewpoints from which we want to render the mesh.\n",
    "num_views = 20\n",
    "\n",
    "# Get a batch of viewing angles. \n",
    "\n",
    "#tohle jsou 2 hodnoty, ktere upravuji odkud se na objekt divam\n",
    "#jedna se hybe \"zprava doleva\", druha se hybe \"zespod nahoru\"\n",
    "elev = torch.linspace(0, 360, num_views)\n",
    "azim = torch.linspace(-180, 180, num_views)\n",
    "\n",
    "\n",
    "# Place a point light in front of the object. As mentioned above, the front of \n",
    "# the cow is facing the -z direction.\n",
    "\n",
    "#nastaveni svetel, pri reseni hodnot textury mimo 0-1 zkousim zmenit nastaveni svetel:\n",
    "\n",
    "lights = PointLights(device=device, location=[[0.0, 0.0, -3.0]])\n",
    "# lights = AmbientLights(device=device)\n",
    "\n",
    "\n",
    "# Initialize an OpenGL perspective camera that represents a batch of different \n",
    "# viewing angles. All the cameras helper methods support mixed type inputs and \n",
    "# broadcasting. So we can view the camera from the a distance of dist=2.7, and \n",
    "# then specify elevation and azimuth angles for each viewpoint as tensors. \n",
    "R, T = look_at_view_transform(dist=2.7, elev=elev, azim=azim)\n",
    "\n",
    "cameras = OpenGLPerspectiveCameras(device=device, R=R, T=T)\n",
    "\n",
    "# We arbitrarily choose one particular view that will be used to visualize \n",
    "# results\n",
    "camera = OpenGLPerspectiveCameras(device=device, R=R[None, 1, ...], \n",
    "                                  T=T[None, 1, ...]) \n",
    "\n",
    "# Define the settings for rasterization and shading. Here we set the output \n",
    "# image to be of size 128X128. As we are rendering images for visualization \n",
    "# purposes only we will set faces_per_pixel=1 and blur_radius=0.0. Refer to \n",
    "# rasterize_meshes.py for explanations of these parameters.  We also leave \n",
    "# bin_size and max_faces_per_bin to their default values of None, which sets \n",
    "# their values using heuristics and ensures that the faster coarse-to-fine \n",
    "# rasterization method is used.  Refer to docs/notes/renderer.md for an \n",
    "# explanation of the difference between naive and coarse-to-fine rasterization. \n",
    "raster_settings = RasterizationSettings(\n",
    "    image_size=128, \n",
    "    blur_radius=0.0, \n",
    "    faces_per_pixel=1, \n",
    ")\n",
    "\n",
    "# Create a Phong renderer by composing a rasterizer and a shader. The textured \n",
    "# Phong shader will interpolate the texture uv coordinates for each vertex, \n",
    "# sample from a texture image and apply the Phong lighting model\n",
    "renderer = MeshRenderer(\n",
    "    rasterizer=MeshRasterizer(\n",
    "        cameras=camera, \n",
    "        raster_settings=raster_settings\n",
    "    ),\n",
    "    shader=SoftPhongShader(\n",
    "        device=device, \n",
    "        cameras=camera,\n",
    "        lights=lights\n",
    "    )\n",
    ")\n",
    "\n",
    "sigma = 1e-4\n",
    "raster_settings_soft = RasterizationSettings(\n",
    "    image_size=128, \n",
    "    blur_radius=np.log(1. / 1e-4 - 1.)*sigma, \n",
    "    faces_per_pixel=50, \n",
    "    perspective_correct=False,\n",
    "    max_faces_per_bin=100000\n",
    ")\n",
    "\n",
    "\n",
    "# Differentiable soft renderer using per vertex RGB colors for texture\n",
    "renderer_textured = MeshRenderer(\n",
    "    rasterizer=MeshRasterizer(\n",
    "        cameras=camera, \n",
    "        raster_settings=raster_settings_soft\n",
    "    ),\n",
    "    shader=SoftPhongShader(device=device, \n",
    "        cameras=camera,\n",
    "        lights=lights)\n",
    ")"
   ]
  },
  {
   "cell_type": "markdown",
   "metadata": {
    "id": "17c4xmtyfBMH"
   },
   "source": [
    "## 2. Dataset Creation\n",
    "\n",
    "We sample different camera positions that encode multiple viewpoints of the cow.  We create a renderer with a shader that performs texture map interpolation.  We render a synthetic dataset of images of the textured cow mesh from multiple viewpoints.\n"
   ]
  },
  {
   "cell_type": "code",
   "execution_count": 8,
   "metadata": {
    "id": "CDQKebNNfBMI"
   },
   "outputs": [],
   "source": [
    "# Path to dataset\n",
    "DATA_DIR = \"./my_data/3DDataset_stuff/dataset2/\"\n",
    "\n",
    "data_to_load = []\n",
    "\n",
    "\n",
    "for dire in os.listdir(DATA_DIR):\n",
    "    obj_filename = os.path.join(DATA_DIR, dire, 'normalized_model.obj')\n",
    "    if dire[0] != '.':\n",
    "        data_to_load.append(obj_filename)\n",
    "        \n",
    "data_to_load = data_to_load[:2]\n",
    "    \n",
    "\n",
    "# obj_filename = os.path.join(DATA_DIR, \"test2/normalized_model.obj\")\n",
    "\n",
    "def load_mesh_and_target_rgb(obj_filename):\n",
    "    # Load obj file\n",
    "    mesh = load_objs_as_meshes([obj_filename], device=device)\n",
    "\n",
    "    # We scale normalize and center the target mesh to fit in a sphere of radius 1 \n",
    "    # centered at (0,0,0). (scale, center) will be used to bring the predicted mesh \n",
    "    # to its original center and scale.  Note that normalizing the target mesh, \n",
    "    # speeds up the optimization but is not necessary!\n",
    "    verts = mesh.verts_packed()\n",
    "    N = verts.shape[0]\n",
    "    center = verts.mean(0)\n",
    "    scale = max((verts - center).abs().max(0)[0])\n",
    "    mesh.offset_verts_(-center)\n",
    "    mesh.scale_verts_((1.0 / float(scale)))\n",
    "    \n",
    "    \n",
    "    # Create a batch of meshes by repeating the cow mesh and associated textures. \n",
    "    # Meshes has a useful `extend` method which allows us do this very easily. \n",
    "    # This also extends the textures. \n",
    "    meshes = mesh.extend(num_views)\n",
    "\n",
    "    # Render the cow mesh from each viewing angle\n",
    "\n",
    "    target_images = renderer_textured(meshes, cameras=cameras, lights=lights)\n",
    "\n",
    "\n",
    "\n",
    "    # Our multi-view cow dataset will be represented by these 2 lists of tensors,\n",
    "    # each of length num_views.\n",
    "    #list 20 tensoru [128,128,4]\n",
    "    target_rgb = [target_images[i, ..., :3] for i in range(num_views)]\n",
    "\n",
    "    target_cameras = [OpenGLPerspectiveCameras(device=device, R=R[None, i, ...], \n",
    "                                           T=T[None, i, ...]) for i in range(num_views)]\n",
    "\n",
    "\n",
    "    return mesh, target_images, target_cameras\n",
    "\n",
    "\n",
    "\n",
    "\n",
    "# cow = os.path.join(DATA_DIR, 'cow_mesh/normalized_model.obj')\n",
    "# print(cow)\n",
    "\n",
    "# _, target_images, _ = load_mesh_and_target_rgb(cow)\n",
    "\n",
    "\n",
    "\n"
   ]
  },
  {
   "cell_type": "markdown",
   "metadata": {
    "id": "TppB4PVmR1Rc"
   },
   "source": [
    "Visualize the dataset:"
   ]
  },
  {
   "cell_type": "code",
   "execution_count": 9,
   "metadata": {
    "id": "HHE0CnbVR1Rd"
   },
   "outputs": [],
   "source": [
    "# image_grid(target_images.cpu().detach().numpy(), rows=4, cols=5, rgb=True)\n",
    "# plt.show()"
   ]
  },
  {
   "cell_type": "markdown",
   "metadata": {
    "id": "gOb4rYx65E8z"
   },
   "source": [
    "Later in this tutorial, we will fit a mesh to the rendered RGB images, as well as to just images of just the cow silhouette.  For the latter case, we will render a dataset of silhouette images.  Most shaders in PyTorch3D will output an alpha channel along with the RGB image as a 4th channel in an RGBA image.  The alpha channel encodes the probability that each pixel belongs to the foreground of the object.  We construct a soft silhouette shader to render this alpha channel."
   ]
  },
  {
   "cell_type": "markdown",
   "metadata": {
    "id": "t3qphI1ElUb5"
   },
   "source": [
    "## 3. Mesh prediction via silhouette rendering\n",
    "In the previous section, we created a dataset of images of multiple viewpoints of a cow.  In this section, we predict a mesh by observing those target images without any knowledge of the ground truth cow mesh.  We assume we know the position of the cameras and lighting.\n",
    "\n",
    "We first define some helper functions to visualize the results of our mesh prediction:"
   ]
  },
  {
   "cell_type": "code",
   "execution_count": 10,
   "metadata": {
    "id": "eeWYHROrR1Rh"
   },
   "outputs": [],
   "source": [
    "# Show a visualization comparing the rendered predicted mesh to the ground truth \n",
    "# mesh\n",
    "def visualize_prediction(predicted_mesh, renderer, \n",
    "                         target_image, title='', \n",
    "                         silhouette=False):\n",
    "    inds = 3 if silhouette else range(3)\n",
    "    with torch.no_grad():\n",
    "        predicted_images = renderer(predicted_mesh)\n",
    "    plt.figure(figsize=(20, 10))\n",
    "    plt.subplot(1, 2, 1)\n",
    "    plt.imshow(predicted_images[0, ..., inds].cpu().detach().numpy())\n",
    "\n",
    "    plt.subplot(1, 2, 2)\n",
    "    plt.imshow(target_image.cpu().detach().numpy())\n",
    "    plt.title(title)\n",
    "    plt.axis(\"off\")\n",
    "\n",
    "# Plot losses as a function of optimization iteration\n",
    "def plot_losses(losses):\n",
    "    fig = plt.figure(figsize=(13, 5))\n",
    "    ax = fig.gca()\n",
    "    for k, l in losses.items():\n",
    "        ax.plot(l['values'], label=k + \" loss\")\n",
    "    ax.legend(fontsize=\"16\")\n",
    "    ax.set_xlabel(\"Iteration\", fontsize=\"16\")\n",
    "    ax.set_ylabel(\"Loss\", fontsize=\"16\")\n",
    "    ax.set_title(\"Loss vs iterations\", fontsize=\"16\")\n",
    "    "
   ]
  },
  {
   "cell_type": "markdown",
   "metadata": {
    "id": "PpsvBpuMR1Ri"
   },
   "source": [
    "Starting from a sphere mesh, we will learn offsets of each vertex such that the predicted mesh silhouette is more similar to the target silhouette image at each optimization step.  We begin by loading our initial sphere mesh:"
   ]
  },
  {
   "cell_type": "markdown",
   "metadata": {
    "id": "f5xVtgLNDvC5"
   },
   "source": [
    "We create a new differentiable renderer for rendering the silhouette of our predicted mesh:"
   ]
  },
  {
   "cell_type": "markdown",
   "metadata": {
    "id": "SGJKbCB6R1Rk"
   },
   "source": [
    "We initialize settings, losses, and the optimizer that will be used to iteratively fit our mesh to the target silhouettes:"
   ]
  },
  {
   "cell_type": "markdown",
   "metadata": {
    "id": "QLc9zK8lEqFS"
   },
   "source": [
    "We write an optimization loop to iteratively refine our predicted mesh from the sphere mesh into a mesh that matches the silhouettes of the target images:"
   ]
  },
  {
   "cell_type": "markdown",
   "metadata": {
    "id": "XJDsJQmrR1Ro"
   },
   "source": [
    "## 3. Mesh and texture prediction via textured rendering\n",
    "We can predict both the mesh and its texture if we add an additional loss based on the comparing a predicted rendered RGB image to the target image. As before, we start with a sphere mesh.  We learn both translational offsets and RGB texture colors for each vertex in the sphere mesh.  Since our loss is based on rendered RGB pixel values instead of just the silhouette, we use a **SoftPhongShader** instead of a **SoftSilhouetteShader**."
   ]
  },
  {
   "cell_type": "markdown",
   "metadata": {
    "id": "NM7gJux8GMQX"
   },
   "source": [
    "We initialize settings, losses, and the optimizer that will be used to iteratively fit our mesh to the target RGB images:"
   ]
  },
  {
   "cell_type": "markdown",
   "metadata": {},
   "source": [
    "Initial texture\n",
    "3 functions defining possible start textures"
   ]
  },
  {
   "cell_type": "code",
   "execution_count": 11,
   "metadata": {
    "id": "BS6LAQquF3wq"
   },
   "outputs": [
    {
     "data": {
      "image/png": "[encoded data removed]",
      "text/plain": [
       "<Figure size 432x288 with 1 Axes>"
      ]
     },
     "metadata": {
      "needs_background": "light"
     },
     "output_type": "display_data"
    }
   ],
   "source": [
    "\n",
    "def checkerboard_texture(device):\n",
    "    texture = np.indices((1024,1024)).sum(axis=0) % 2\n",
    "    texture = np.repeat(texture[:, :, np.newaxis], 3, axis=2)\n",
    "    texture = np.expand_dims(texture, axis=0)\n",
    "    texture = texture.astype(np.float32)\n",
    "    return torch.tensor(texture, device=device, requires_grad=True)\n",
    "\n",
    "def homogeneous_texture(value, device):\n",
    "    return torch.full((1, 1024,1024, 3), value, device=device, requires_grad=True)\n",
    "\n",
    "def uniform_distribution_texture(device):\n",
    "    texture = torch.rand((1,1024,1024,3), device=device, requires_grad=True)\n",
    "    return texture\n",
    "    \n",
    "    \n",
    "def visualize_texture(tex):\n",
    "    to_vis = torch.squeeze(tex)\n",
    "    plt.imshow(to_vis.detach().cpu().numpy())\n",
    "    plt.show()\n",
    "    \n",
    "\n",
    "\n",
    "def visualize_target(i):\n",
    "    ith_rgb_img = target_rgb[i]\n",
    "    plt.imshow(ith_rgb_img.cpu().detach().numpy())\n",
    "    plt.show()\n",
    "\n",
    "def visualize_mesh(cam_id=1):\n",
    "    test = renderer_textured(mesh, cameras=target_cameras[cam_id], lights=lights)\n",
    "    plt.imshow(torch.squeeze(test).cpu().detach().numpy()[..., :3])\n",
    "    plt.show()\n",
    "\n",
    "\n",
    "origin_texture = checkerboard_texture(device)\n",
    "visualize_texture(origin_texture)\n",
    "\n"
   ]
  },
  {
   "cell_type": "markdown",
   "metadata": {},
   "source": [
    "Optimization - hyperparameter tuning."
   ]
  },
  {
   "cell_type": "code",
   "execution_count": 12,
   "metadata": {},
   "outputs": [
    {
     "name": "stdout",
     "output_type": "stream",
     "text": [
      "['./my_data/3DDataset_stuff/dataset2/c5aaf107-c8d0-4b01-b51d-9c2bddef8e2a/normalized_model.obj']\n"
     ]
    }
   ],
   "source": [
    "\n",
    "# Number of views to optimize over in each SGD iteration\n",
    "num_views_per_iteration = num_views\n",
    "# Number of optimization steps\n",
    "\n",
    "Niter = 100000\n",
    "\n",
    "exec_time = 5\n",
    "\n",
    "learning_rate = 1.0\n",
    "momentum = 0.9\n",
    "\n",
    "loss_rgb_mult = 30000.0\n",
    "loss_penalization_mult = 0.27\n",
    "\n",
    "'''\n",
    "LOSS function\n",
    "\n",
    "rgb loss: computes MSE between target view and view rendered with predicted texture\n",
    "\n",
    "penalization loss: the optimization might be ambiguous, probably because the final rasterization is averageing colours, so the colors \n",
    "in texture can have RGB components out of range 0-1 for floats, so I use also loss to penalize values out of desired rgb range\n",
    "\n",
    "'''\n",
    "\n",
    "losses = {\"rgb\": {\"weight\": loss_rgb_mult, \"values\": []}, \"penalization\": {\"weight\": loss_penalization_mult, \"values\": []}}\n",
    "\n",
    "def texture_and_optimizer():\n",
    "    texture = checkerboard_texture(device)\n",
    "    optimizer = torch.optim.SGD([texture], lr = learning_rate, momentum=momentum)\n",
    "    return texture, optimizer\n",
    "\n",
    "'''\n",
    "Parameter grid\n",
    "\n",
    "All combinations of parameters will be tried. Time complexity grows exponentially with number of parameters. \n",
    "\n",
    "'''\n",
    "param_grid = {\n",
    "             \"loss_rgb\" : [15000], \n",
    "             \"loss_penalization\" : [0.15],\n",
    "             \"learning_rate\": [1.0],\n",
    "             \"momentum\": [0.9]\n",
    "             }\n",
    "\n",
    "\n",
    "# param_grid = {\"learning_rate\" : [1.0], \n",
    "#               \"momentum\" : [0.9], \n",
    "#               \"loss_rgb\" : [15000], \n",
    "#               \"loss_penalization\" : [0.15, 0.30]}\n",
    "             \n",
    "keys, values = zip(*param_grid.items())\n",
    "permutations_dicts = [dict(zip(keys, v)) for v in itertools.product(*values)]\n",
    "\n",
    "\n",
    "results = torch.empty(len(permutations_dicts), len(losses) * len(data_to_load), requires_grad=False)\n",
    "\n",
    "a_file = open(\"param_dict.json\", \"w\")\n",
    "json.dump(permutations_dicts, a_file)\n",
    "a_file.close()\n",
    "\n",
    "\n",
    "print(data_to_load)\n",
    "\n",
    "\n",
    "\n"
   ]
  },
  {
   "cell_type": "code",
   "execution_count": 15,
   "metadata": {},
   "outputs": [
    {
     "name": "stdout",
     "output_type": "stream",
     "text": [
      "{'loss_rgb': 15000, 'loss_penalization': 0.15, 'learning_rate': 1.0, 'momentum': 0.9}\n"
     ]
    },
    {
     "data": {
      "application/vnd.jupyter.widget-view+json": {
       "model_id": "914273bdb4e4421a8f405a82f8c85f7b",
       "version_major": 2,
       "version_minor": 0
      },
      "text/plain": [
       "  0%|          | 0/100000 [00:00<?, ?it/s]"
      ]
     },
     "metadata": {},
     "output_type": "display_data"
    },
    {
     "name": "stdout",
     "output_type": "stream",
     "text": [
      "0\n",
      "rendertime: 0.20886945724487305\n",
      "tensor(73.5411, device='cuda:0', grad_fn=<AddBackward0>)\n",
      "1\n",
      "rendertime: 0.20652055740356445\n",
      "tensor(72.7752, device='cuda:0', grad_fn=<AddBackward0>)\n",
      "2\n",
      "rendertime: 0.2063591480255127\n",
      "tensor(71.5813, device='cuda:0', grad_fn=<AddBackward0>)\n",
      "3\n",
      "rendertime: 0.2065129280090332\n",
      "tensor(70.1942, device='cuda:0', grad_fn=<AddBackward0>)\n",
      "4\n",
      "rendertime: 0.20641851425170898\n",
      "tensor(68.7554, device='cuda:0', grad_fn=<AddBackward0>)\n",
      "5\n",
      "rendertime: 0.20640897750854492\n",
      "tensor(67.3728, device='cuda:0', grad_fn=<AddBackward0>)\n",
      "6\n",
      "rendertime: 0.20583558082580566\n",
      "tensor(65.9424, device='cuda:0', grad_fn=<AddBackward0>)\n",
      "7\n",
      "rendertime: 0.20608758926391602\n",
      "tensor(64.3638, device='cuda:0', grad_fn=<AddBackward0>)\n",
      "8\n",
      "rendertime: 0.20616650581359863\n",
      "tensor(62.6482, device='cuda:0', grad_fn=<AddBackward0>)\n",
      "9\n",
      "rendertime: 0.20581340789794922\n",
      "tensor(60.8806, device='cuda:0', grad_fn=<AddBackward0>)\n",
      "10\n",
      "rendertime: 0.20585131645202637\n",
      "tensor(59.0947, device='cuda:0', grad_fn=<AddBackward0>)\n",
      "11\n",
      "rendertime: 0.20593500137329102\n",
      "tensor(57.3104, device='cuda:0', grad_fn=<AddBackward0>)\n",
      "12\n",
      "rendertime: 0.205763578414917\n",
      "tensor(55.5464, device='cuda:0', grad_fn=<AddBackward0>)\n",
      "13\n",
      "rendertime: 0.20604848861694336\n",
      "tensor(53.7755, device='cuda:0', grad_fn=<AddBackward0>)\n",
      "14\n",
      "rendertime: 0.20623326301574707\n",
      "tensor(52.0196, device='cuda:0', grad_fn=<AddBackward0>)\n",
      "15\n",
      "rendertime: 0.2058241367340088\n",
      "tensor(50.3112, device='cuda:0', grad_fn=<AddBackward0>)\n",
      "Time over\n",
      "2\n"
     ]
    },
    {
     "ename": "",
     "evalue": "",
     "output_type": "error",
     "traceback": [
      "\u001b[1;31mThe Kernel crashed while executing code in the the current cell or a previous cell. Please review the code in the cell(s) to identify a possible cause of the failure. Click <a href='https://aka.ms/vscodeJupyterKernelCrash'>here</a> for more info. View Jupyter <a href='command:jupyter.viewOutput'>log</a> for further details."
     ]
    }
   ],
   "source": [
    "\n",
    "row_index = 0\n",
    "\n",
    "\n",
    "for params in permutations_dicts:\n",
    "    losses[\"rgb\"][\"weight\"] = params[\"loss_rgb\"]\n",
    "    losses[\"penalization\"][\"weight\"]  = params[\"loss_penalization\"]\n",
    "    learning_rate = params[\"learning_rate\"]\n",
    "    momentum = params[\"momentum\"]\n",
    "    column_index = 0\n",
    "    \n",
    "    print(params)\n",
    "    \n",
    "    for data in data_to_load:\n",
    "        \n",
    "\n",
    "        loop = tqdm(range(Niter))\n",
    "\n",
    "        # wandb.init(project=\"generating-textures-with-a-gan\", \n",
    "        #            config = {\n",
    "        #               \"object\" : \"test2\",\n",
    "        #               \"learning_rate\": learning_rate,\n",
    "        #               \"momentum:\": momentum,\n",
    "        #               \"epochs\": Niter,\n",
    "        #               \"loss_rgb_mult\": loss_rgb_mult, \n",
    "        #               \"loss_penalization_mult\": loss_penalization_mult,\n",
    "        #               \"data_name\" : data\n",
    "        #             }\n",
    "        #           )\n",
    "\n",
    "        origin_texture, my_optimizer = texture_and_optimizer()\n",
    "        \n",
    "        # torch.cuda.empty_cache()\n",
    "\n",
    "\n",
    "        \n",
    "\n",
    "        mesh, target_images, target_cameras = load_mesh_and_target_rgb(data)\n",
    "        \n",
    "        # torch.cuda.empty_cache()\n",
    "\n",
    "\n",
    "\n",
    "\n",
    "\n",
    "\n",
    "        target_rgb = [target_images[i, ..., :3] for i in range(num_views)]\n",
    "        \n",
    "        \n",
    "        \n",
    "\n",
    "        for k in range(len(target_rgb)):\n",
    "            target_rgb[k] = torch.unsqueeze(target_rgb[k], 0)\n",
    "\n",
    "        target_rgb = torch.cat(target_rgb, 0)\n",
    "        \n",
    "        # print(target_rgb.size())\n",
    "        # target_rgb = torch.permute(target_rgb, (0, 3, 1, 2))\n",
    "    \n",
    "    \n",
    "    \n",
    "    \n",
    "        start_time = time.time()\n",
    "        \n",
    "\n",
    "        for i in loop:\n",
    "            print(i)\n",
    "            start = time.time()\n",
    "\n",
    "            \n",
    "            # torch.cuda.empty_cache()\n",
    "\n",
    "\n",
    "            my_optimizer.zero_grad()\n",
    "            \n",
    "            #mesh namapuji na novou texturu\n",
    "            mesh.textures._maps_padded = origin_texture\n",
    "            # meshes = mesh.extend(num_views)\n",
    "            meshes = mesh.extend(num_views)\n",
    "\n",
    "\n",
    "            loss = {k: torch.tensor(0.0, device=device) for k in losses}\n",
    "\n",
    "            \n",
    "            \n",
    "            pred_list = []\n",
    "            \n",
    "\n",
    "            pred_list = renderer_textured(meshes, cameras=cameras, lights=lights)\n",
    "\n",
    "\n",
    "\n",
    "\n",
    "    \n",
    "            pred_list = pred_list[..., :3]\n",
    "            \n",
    "#                 #compute rgb rgb loss\n",
    "\n",
    "            print(f'rendertime: {time.time() - start}')\n",
    "\n",
    "\n",
    "            loss_rgb = torch.mean(((pred_list - target_rgb) ** 2), dim=(1,2,3))\n",
    "            loss_rgb = torch.sum(loss_rgb)\n",
    "            loss[\"rgb\"] = loss_rgb / num_views_per_iteration\n",
    "            \n",
    "            \n",
    "            \n",
    "\n",
    "            #compute loss of values below 0\n",
    "            penalization_bellow_0 = origin_texture[origin_texture<0.0]\n",
    "            penalization_bellow_0 = -torch.sum(penalization_bellow_0)\n",
    "\n",
    "            #compute loss of values above 1\n",
    "            penalization_above_1 = origin_texture[origin_texture>1.0]\n",
    "            penalization_above_1 = torch.sum(penalization_above_1 - 1)\n",
    "\n",
    "            #add those two losses together and normalize\n",
    "            penalization = penalization_bellow_0 + penalization_above_1\n",
    "            loss[\"penalization\"] = penalization/num_views_per_iteration\n",
    "\n",
    "\n",
    "\n",
    "\n",
    "            #Weighted sum of the losses\n",
    "            sum_loss = torch.tensor(0.0, device=device)\n",
    "            for k, l in loss.items():\n",
    "                sum_loss += l * losses[k][\"weight\"]\n",
    "                losses[k][\"values\"].append(float(l.detach().cpu()))\n",
    "\n",
    "            # wandb.log({\"loss_rgb\": loss[\"rgb\"], \"loss_penalization\": loss[\"penalization\"], \"sum_loss\": sum_loss.item()})\n",
    "\n",
    "\n",
    "            # Print the losses\n",
    "            # loop.set_description(\"total_loss = %.6f\" % sum_loss)\n",
    "            print(sum_loss)\n",
    "\n",
    "\n",
    "            # Optimization step\n",
    "            sum_loss.backward()\n",
    "            torch.nn.utils.clip_grad_norm_(origin_texture, 0.5)\n",
    "            my_optimizer.step()\n",
    "\n",
    "            if time.time() - start_time > exec_time:\n",
    "                print('Time over')\n",
    "                break\n",
    "\n",
    "            if torch.isinf(sum_loss).item():\n",
    "                print('Infinity loss')\n",
    "                break\n",
    "\n",
    "                \n",
    "        results[row_index, column_index] = loss[\"rgb\"]\n",
    "        results[row_index, column_index + 1] = loss[\"penalization\"]\n",
    "        \n",
    "        column_index += 2\n",
    "        \n",
    "        print(column_index)\n",
    "        \n",
    "    row_index += 1\n",
    "    column_index = 0\n",
    "    \n",
    "torch.save(results, 'results.pt')\n",
    "\n",
    "\n",
    "\n"
   ]
  },
  {
   "cell_type": "code",
   "execution_count": 15,
   "metadata": {},
   "outputs": [
    {
     "name": "stdout",
     "output_type": "stream",
     "text": [
      "{'loss_rgb': 15000, 'loss_penalization': 0.15, 'learning_rate': 1.0, 'momentum': 0.9}\n",
      "./my_data/3DDataset_stuff/dataset2/c5aaf107-c8d0-4b01-b51d-9c2bddef8e2a/normalized_model.obj\n"
     ]
    },
    {
     "data": {
      "application/vnd.jupyter.widget-view+json": {
       "model_id": "c72ae3b682294b83ae0bca66924da698",
       "version_major": 2,
       "version_minor": 0
      },
      "text/plain": [
       "  0%|          | 0/100000 [00:00<?, ?it/s]"
      ]
     },
     "metadata": {},
     "output_type": "display_data"
    },
    {
     "name": "stdout",
     "output_type": "stream",
     "text": [
      "Time over\n",
      "2\n"
     ]
    }
   ],
   "source": [
    "row_index = 0\n",
    "\n",
    "\n",
    "for params in permutations_dicts:\n",
    "    losses[\"rgb\"][\"weight\"] = params[\"loss_rgb\"]\n",
    "    losses[\"penalization\"][\"weight\"]  = params[\"loss_penalization\"]\n",
    "    learning_rate = params[\"learning_rate\"]\n",
    "    momentum = params[\"momentum\"]\n",
    "    column_index = 0\n",
    "    \n",
    "    print(params)\n",
    "    \n",
    "    for data in data_to_load:\n",
    "        \n",
    "        print(data)\n",
    "\n",
    "        loop = tqdm(range(Niter))\n",
    "\n",
    "        # wandb.init(project=\"generating-textures-with-a-gan\", \n",
    "        #            config = {\n",
    "        #               \"object\" : \"test2\",\n",
    "        #               \"learning_rate\": learning_rate,\n",
    "        #               \"momentum:\": momentum,\n",
    "        #               \"epochs\": Niter,\n",
    "        #               \"loss_rgb_mult\": loss_rgb_mult, \n",
    "        #               \"loss_penalization_mult\": loss_penalization_mult,\n",
    "        #               \"data_name\" : data\n",
    "        #             }\n",
    "        #           )\n",
    "\n",
    "        origin_texture, my_optimizer = texture_and_optimizer()\n",
    "\n",
    "        mesh, target_images, target_cameras = load_mesh_and_target_rgb(data)\n",
    "\n",
    "\n",
    "        target_rgb = [target_images[i, ..., :3] for i in range(num_views)]\n",
    "        start_time = time.time()\n",
    "        \n",
    "\n",
    "        for i in loop:\n",
    "            my_optimizer.zero_grad()\n",
    "            \n",
    "            #mesh namapuji na novou texturu\n",
    "            mesh.textures._maps_padded = origin_texture\n",
    "\n",
    "\n",
    "            # Losses to smooth /regularize the mesh shape\n",
    "            #tohle jen vytvori tensor ke kazdemu druhu loss\n",
    "            #{'rgb': tensor(0., device='cuda:0'), 'silhouette': tensor(0., device='cuda:0'), 'edge': tensor(0., device='cuda:0'), \n",
    "            #'normal': tensor(0., device='cuda:0'), 'laplacian': tensor(0., device='cuda:0')}\n",
    "            loss = {k: torch.tensor(0.0, device=device) for k in losses}\n",
    "\n",
    "\n",
    "            # update_mesh_shape_prior_losses(mesh, loss)\n",
    "\n",
    "            # Randomly select two views to optimize over in this iteration.  Compared\n",
    "            # to using just one view, this helps resolve ambiguities between updating\n",
    "            # mesh shape vs. updating mesh texture\n",
    "            for j in np.random.permutation(num_views).tolist():\n",
    "\n",
    "                #vyrendderuji j-ty pohled\n",
    "                images_predicted = renderer_textured(mesh, cameras=target_cameras[j], lights=lights)\n",
    "\n",
    "                # Squared L2 distance between the predicted RGB image and the target \n",
    "                # image from our dataset\n",
    "\n",
    "                #odeberu alfa dimenzi\n",
    "                predicted_rgb = images_predicted[..., :3]\n",
    "\n",
    "\n",
    "                #compute rgb rgb loss\n",
    "                loss_rgb = ((predicted_rgb - target_rgb[j]) ** 2).mean()\n",
    "                loss[\"rgb\"] += loss_rgb / num_views_per_iteration\n",
    "\n",
    "                #compute loss of values below 0\n",
    "                penalization_bellow_0 = origin_texture[origin_texture<0.0]\n",
    "                penalization_bellow_0 = -torch.sum(penalization_bellow_0)\n",
    "\n",
    "                #compute loss of values above 1\n",
    "                penalization_above_1 = origin_texture[origin_texture>1.0]\n",
    "                penalization_above_1 = torch.sum(penalization_above_1 - 1)\n",
    "\n",
    "                #add those two losses together and normalize\n",
    "                penalization = penalization_bellow_0 + penalization_above_1\n",
    "                loss[\"penalization\"] = penalization/num_views_per_iteration\n",
    "\n",
    "\n",
    "            #Weighted sum of the losses\n",
    "            sum_loss = torch.tensor(0.0, device=device)\n",
    "            for k, l in loss.items():\n",
    "                sum_loss += l * losses[k][\"weight\"]\n",
    "                losses[k][\"values\"].append(float(l.detach().cpu()))\n",
    "\n",
    "            # wandb.log({\"loss_rgb\": loss[\"rgb\"], \"loss_penalization\": loss[\"penalization\"], \"sum_loss\": sum_loss.item()})\n",
    "\n",
    "\n",
    "            # Print the losses\n",
    "            loop.set_description(\"total_loss = %.6f\" % sum_loss)\n",
    "\n",
    "\n",
    "            # Optimization step\n",
    "            sum_loss.backward()\n",
    "            torch.nn.utils.clip_grad_norm_(origin_texture, 0.5)\n",
    "            my_optimizer.step()\n",
    "\n",
    "            if time.time() - start_time > exec_time:\n",
    "                print('Time over')\n",
    "                break\n",
    "\n",
    "            if torch.isinf(sum_loss).item():\n",
    "                print('Infinity loss')\n",
    "                break\n",
    "                \n",
    "        results[row_index, column_index] = loss[\"rgb\"]\n",
    "        results[row_index, column_index + 1] = loss[\"penalization\"]\n",
    "        \n",
    "        column_index += 2\n",
    "        \n",
    "        print(column_index)\n",
    "        \n",
    "    row_index += 1\n",
    "    column_index = 0\n",
    "    \n",
    "torch.save(results, 'results.pt')"
   ]
  },
  {
   "cell_type": "code",
   "execution_count": null,
   "metadata": {},
   "outputs": [],
   "source": []
  },
  {
   "cell_type": "raw",
   "metadata": {},
   "source": [
    "Optimization settings for ground truth"
   ]
  },
  {
   "cell_type": "code",
   "execution_count": null,
   "metadata": {},
   "outputs": [],
   "source": [
    "# Number of views to optimize over in each SGD iteration\n",
    "num_views_per_iteration = len(target_rgb)\n",
    "# Number of optimization steps\n",
    "\n",
    "Niter = 300000\n",
    "\n",
    "# Plot period for the losses, saving textures\n",
    "plot_period = 1000\n",
    "\n",
    "#max number of iterations when loss has not decreased at least by the variable below\n",
    "#when there is no progress in loss for 'iterations_no_best_loss', I assume the loss has converged\n",
    "iterations_no_best_loss = 500\n",
    "\n",
    "#loss has to decrease by at least byt this rate, otherwise covergence is assumed\n",
    "loss_increased_at_least_by = 0.99\n",
    "\n",
    "learning_rate = 1.0\n",
    "momentum = 0.9\n",
    "\n",
    "loss_rgb_mult = 500.0\n",
    "loss_penalization_mult = 0.02\n",
    "\n",
    "'''\n",
    "LOSS function:\n",
    "\n",
    "rgb loss: computes MSE between target view and view rendered with predicted texture\n",
    "penalization: the optimization might be ambiguous, probably because the final rasterization is averageing colours, so the colors \n",
    "in texture can have RGB components out of range 0-1 for floats, so I use also loss to penalize values out of desired rgb range\n",
    "\n",
    "'''\n",
    "losses = {\"rgb\": {\"weight\": loss_rgb_mult, \"values\": []}, \"penalization\": {\"weight\": loss_penalization_mult, \"values\": []}}\n",
    "\n",
    "\n",
    "#optimizing only the texture\n",
    "#zkusim vic nahodnych pohledu nebo vypnout momoentum\n",
    "my_optimizer = torch.optim.SGD([origin_texture], lr = learning_rate, momentum=momentum)\n",
    "\n"
   ]
  },
  {
   "cell_type": "code",
   "execution_count": null,
   "metadata": {
    "colab": {
     "base_uri": "https://localhost:8080/",
     "height": 236
    },
    "id": "EKEH2p8-R1Rr",
    "outputId": "5e68c27b-eb8f-4a36-90a3-38cdc00e1599"
   },
   "outputs": [],
   "source": [
    "\n",
    "loop = tqdm(range(Niter))\n",
    "current_iterations_without_best_loss = 0\n",
    "best_loss = torch.tensor(float('inf'))\n",
    "wandb.init(project=\"generating-textures-with-a-gan\", config = {\n",
    "  \"learning_rate\": learning_rate,\n",
    "  \"momentum:\": momentum,\n",
    "  \"epochs\": Niter,\n",
    "  \"loss_rgb_mult\": loss_rgb_mult, \n",
    "  \"loss_penalization_mult\": loss_penalization_mult,\n",
    "})\n",
    "\n",
    "# wandb.config = \n",
    "wandb.log({\"test\" : 0})\n",
    "exit(0)\n",
    "\n",
    "store_data = \"my_data/predicted/cow_gr_tru_2/\"\n",
    "\n",
    "try:\n",
    "    os.mkdir(store_data)\n",
    "except:\n",
    "  print(\"Directory exists.\")\n",
    "\n",
    "try: \n",
    "    os.mkdir(store_data + 'textures')\n",
    "except:\n",
    "  print(\"Directory exists.\")\n",
    "\n",
    "\n",
    "\n",
    "for i in loop:\n",
    "    my_optimizer.zero_grad()\n",
    "    \n",
    "    #mesh namapuji na novou texturu\n",
    "    mesh.textures._maps_padded = origin_texture\n",
    "\n",
    "    \n",
    "    # Losses to smooth /regularize the mesh shape\n",
    "    #tohle jen vytvori tensor ke kazdemu druhu loss\n",
    "    #{'rgb': tensor(0., device='cuda:0'), 'silhouette': tensor(0., device='cuda:0'), 'edge': tensor(0., device='cuda:0'), \n",
    "    #'normal': tensor(0., device='cuda:0'), 'laplacian': tensor(0., device='cuda:0')}\n",
    "    loss = {k: torch.tensor(0.0, device=device) for k in losses}\n",
    "    \n",
    "\n",
    "    # update_mesh_shape_prior_losses(mesh, loss)\n",
    "\n",
    "    # Randomly select two views to optimize over in this iteration.  Compared\n",
    "    # to using just one view, this helps resolve ambiguities between updating\n",
    "    # mesh shape vs. updating mesh texture\n",
    "    for j in np.random.permutation(num_views).tolist():\n",
    "        \n",
    "        #vyrendderuji j-ty pohled\n",
    "        images_predicted = renderer_textured(mesh, cameras=target_cameras[j], lights=lights)\n",
    "\n",
    "        # Squared L2 distance between the predicted RGB image and the target \n",
    "        # image from our dataset\n",
    "        \n",
    "        #odeberu alfa dimenzi\n",
    "        predicted_rgb = images_predicted[..., :3]\n",
    "                                         \n",
    "                                        \n",
    "        \n",
    "        #spocitam rgb loss\n",
    "        loss_rgb = ((predicted_rgb - target_rgb[j]) ** 2).mean()\n",
    "        loss[\"rgb\"] += loss_rgb / num_views_per_iteration\n",
    "        \n",
    "        \n",
    "        penalization_bellow_0 = origin_texture[origin_texture<0.0]\n",
    "        penalization_bellow_0 = -torch.sum(penalization_bellow_0)\n",
    "        \n",
    "        penalization_above_1 = origin_texture[origin_texture>1.0]\n",
    "        penalization_above_1 = torch.sum(penalization_above_1 - 1)\n",
    "        \n",
    "        penalization = penalization_bellow_0 + penalization_above_1\n",
    "        loss[\"penalization\"] = penalization/num_views_per_iteration\n",
    "        \n",
    "    \n",
    "    #Weighted sum of the losses\n",
    "    sum_loss = torch.tensor(0.0, device=device)\n",
    "    for k, l in loss.items():\n",
    "        sum_loss += l * losses[k][\"weight\"]\n",
    "        losses[k][\"values\"].append(float(l.detach().cpu()))\n",
    "     \n",
    "    wandb.log({\"loss_rgb\": loss[\"rgb\"], \"loss_penalization\": loss[\"penalization\"], \"sum_loss\": sum_loss.item()})\n",
    "    \n",
    "    if current_iterations_without_best_loss > iterations_no_best_loss:\n",
    "        print(f'Converged at best loss: {best_loss}')\n",
    "        torch.save(origin_texture, store_data + \"textures/ground_truth.pt\")\n",
    "        with open(store_data + 'ground_truth_final_iterations.txt', 'w') as f:\n",
    "            f.write(str(i))\n",
    "        break\n",
    "\n",
    "    \n",
    "\n",
    "    # print((sum_loss/ best_loss).item())\n",
    "    if (sum_loss <= best_loss*loss_increased_at_least_by).item():\n",
    "        print(f'RESET iterations at: {current_iterations_without_best_loss}')\n",
    "        best_loss = sum_loss\n",
    "        current_iterations_without_best_loss = 0\n",
    "\n",
    "    \n",
    "    current_iterations_without_best_loss += 1\n",
    "    \n",
    "    \n",
    "    # Print the losses\n",
    "    loop.set_description(\"total_loss = %.6f\" % sum_loss)\n",
    "    \n",
    "    # Plot mesh\n",
    "    if i % plot_period == 0:\n",
    "        texture_name = 'cow_texture_after_' + str(i) + '_iterations.pt'\n",
    "        torch.save(origin_texture, store_data + 'textures/' + texture_name)\n",
    "        visualize_prediction(mesh, renderer=renderer_textured, title=\"iter: %d\" % i, silhouette=False)\n",
    "        visualize_target(1)\n",
    "        visualize_mesh()\n",
    "        print(torch.max(origin_texture))\n",
    "        print(torch.min(origin_texture))\n",
    "        \n",
    "    # Optimization step\n",
    "    sum_loss.backward()\n",
    "    my_optimizer.step()\n",
    "\n",
    "\n",
    "\n",
    "\n",
    "    \n",
    "\n",
    "\n"
   ]
  },
  {
   "cell_type": "code",
   "execution_count": null,
   "metadata": {
    "colab": {
     "base_uri": "https://localhost:8080/",
     "height": 949
    },
    "id": "2qTcHO4rR1Rs",
    "outputId": "5140a43e-3492-4651-ca3c-7249621a3a8d",
    "scrolled": true
   },
   "outputs": [
    {
     "name": "stdout",
     "output_type": "stream",
     "text": [
      "tensor([0.5000], device='cuda:0', grad_fn=<Unique2Backward0>)\n",
      "tensor([0.5000], device='cuda:0', grad_fn=<Unique2Backward0>)\n",
      "(1024, 1024, 3)\n"
     ]
    },
    {
     "data": {
      "image/png": "[encoded data removed]",
      "text/plain": [
       "<Figure size 1440x720 with 2 Axes>"
      ]
     },
     "metadata": {},
     "output_type": "display_data"
    },
    {
     "data": {
      "image/png": "[encoded data removed]",
      "text/plain": [
       "<Figure size 936x360 with 1 Axes>"
      ]
     },
     "metadata": {},
     "output_type": "display_data"
    }
   ],
   "source": [
    "# from PIL import Image\n",
    "# import numpy as np\n",
    "\n",
    "\n",
    "# print(origin_texture.unique())\n",
    "\n",
    "\n",
    "# newImg = Image.new(\"RGB\", (1024,1024))\n",
    "\n",
    "# print(origin_texture.unique())\n",
    "\n",
    "\n",
    "# # new_texture = np.random.randint(0, 255, (1024,1024,3))\n",
    "\n",
    "# # print(new_texture)\n",
    "# predicted_texture_numpy = predicted_texture_numpy.astype(np.uint8)\n",
    "# predicted_texture_numpy = predicted_texture_numpy.reshape((1024,1024,3))\n",
    "\n",
    "# print(predicted_texture_numpy.shape)\n",
    "# newImg.paste(Image.fromarray(predicted_texture_numpy), (0,0))\n",
    "# newImg.save('data/cow_mesh/pred_texture.png')\n",
    "\n",
    "# # print(new_texture)\n",
    "\n",
    "# predicted_texture = Image.fromarray\n",
    "# visualize_prediction(new_src_mesh, renderer=renderer_textured, silhouette=False)\n",
    "# plot_losses(losses)"
   ]
  },
  {
   "cell_type": "markdown",
   "metadata": {
    "id": "akBOm_xcNUms"
   },
   "source": [
    "Save the final predicted mesh:"
   ]
  },
  {
   "cell_type": "markdown",
   "metadata": {
    "id": "dXoIsGyhxRyK"
   },
   "source": [
    "## 4. Save the final predicted mesh"
   ]
  },
  {
   "cell_type": "code",
   "execution_count": null,
   "metadata": {
    "id": "OQGhV-psKna8"
   },
   "outputs": [],
   "source": [
    "# # Fetch the verts and faces of the final predicted mesh\n",
    "# final_verts, final_faces = new_src_mesh.get_mesh_verts_faces(0)\n",
    "\n",
    "# # Scale normalize back to the original target size\n",
    "# final_verts = final_verts * scale + center\n",
    "\n",
    "# # Store the predicted mesh using save_obj\n",
    "# final_obj = os.path.join('./', 'final_model.obj')\n",
    "# save_obj(final_obj, final_verts, final_faces)"
   ]
  },
  {
   "cell_type": "markdown",
   "metadata": {
    "id": "MtKYp0B6R1Ru"
   },
   "source": [
    "## 5. Conclusion\n",
    "In this tutorial, we learned how to load a textured mesh from an obj file, create a synthetic dataset by rendering the mesh from multiple viewpoints.  We showed how to set up an optimization loop to fit a mesh to the observed dataset images based on a rendered silhouette loss.  We then augmented this optimization loop with an additional loss based on rendered RGB images, which allowed us to predict both a mesh and its texture."
   ]
  }
 ],
 "metadata": {
  "accelerator": "GPU",
  "anp_metadata": {
   "path": "fbsource/fbcode/vision/fair/pytorch3d/docs/tutorials/fit_textured_mesh.ipynb"
  },
  "bento_stylesheets": {
   "bento/extensions/flow/main.css": true,
   "bento/extensions/kernel_selector/main.css": true,
   "bento/extensions/kernel_ui/main.css": true,
   "bento/extensions/new_kernel/main.css": true,
   "bento/extensions/system_usage/main.css": true,
   "bento/extensions/theme/main.css": true
  },
  "colab": {
   "collapsed_sections": [],
   "name": "Kopie sešitu fit_textured_mesh.ipynb",
   "provenance": []
  },
  "disseminate_notebook_info": {
   "backup_notebook_id": "781874812352022"
  },
  "kernelspec": {
   "display_name": "Python 3 (ipykernel)",
   "language": "python",
   "name": "python3"
  },
  "language_info": {
   "codemirror_mode": {
    "name": "ipython",
    "version": 3
   },
   "file_extension": ".py",
   "mimetype": "text/x-python",
   "name": "python",
   "nbconvert_exporter": "python",
   "pygments_lexer": "ipython3",
   "version": "3.9.12"
  },
  "vscode": {
   "interpreter": {
    "hash": "cfc61d02488f2262f87d2db3a2475fe3c22089bae4e13026ba4626157a99218a"
   }
  }
 },
 "nbformat": 4,
 "nbformat_minor": 4
}
