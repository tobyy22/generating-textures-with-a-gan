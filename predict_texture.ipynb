{
 "cells": [
  {
   "cell_type": "code",
   "execution_count": null,
   "metadata": {
    "id": "_Ip8kp4TfBLZ",
    "pycharm": {
     "name": "#%%\n"
    }
   },
   "outputs": [],
   "source": [
    "# Copyright (c) Facebook, Inc. and its affiliates. All rights reserved."
   ]
  },
  {
   "cell_type": "markdown",
   "metadata": {
    "id": "kuXHJv44fBLe",
    "pycharm": {
     "name": "#%% md\n"
    },
    "tags": []
   },
   "source": [
    "# Fit a mesh via rendering\n",
    "\n",
    "This tutorial shows how to:\n",
    "- Load a mesh and textures from an `.obj` file. \n",
    "- Create a synthetic dataset by rendering a textured mesh from multiple viewpoints\n",
    "- Fit a mesh to the observed synthetic images using differential silhouette rendering\n",
    "- Fit a mesh and its textures using differential textured rendering"
   ]
  },
  {
   "cell_type": "markdown",
   "metadata": {
    "id": "Bnj3THhzfBLf",
    "pycharm": {
     "name": "#%% md\n"
    }
   },
   "source": [
    "## 0. Install and Import modules"
   ]
  },
  {
   "cell_type": "markdown",
   "metadata": {
    "id": "okLalbR_g7NS",
    "pycharm": {
     "name": "#%% md\n"
    }
   },
   "source": [
    "Ensure `torch` and `torchvision` are installed. If `pytorch3d` is not installed, install it using the following cell:"
   ]
  },
  {
   "cell_type": "code",
   "execution_count": 1,
   "metadata": {
    "colab": {
     "base_uri": "https://localhost:8080/"
    },
    "id": "musUWTglgxSB",
    "outputId": "87949bd1-3c9c-4036-b42a-38bca6b3d9c7",
    "pycharm": {
     "name": "#%%\n"
    }
   },
   "outputs": [],
   "source": [
    "import json\n",
    "from collections import defaultdict\n",
    "import time\n",
    "import itertools\n",
    "import os\n",
    "import sys\n",
    "import torch\n",
    "need_pytorch3d=False\n",
    "try:\n",
    "    import pytorch3d\n",
    "except ModuleNotFoundError:\n",
    "    need_pytorch3d=True\n",
    "if need_pytorch3d:\n",
    "    if torch.__version__.startswith(\"1.10.\") and sys.platform.startswith(\"linux\"):\n",
    "        # We try to install PyTorch3D via a released wheel.\n",
    "        pyt_version_str=torch.__version__.split(\"+\")[0].replace(\".\", \"\")\n",
    "        version_str=\"\".join([\n",
    "            f\"py3{sys.version_info.minor}_cu\",\n",
    "            torch.version.cuda.replace(\".\",\"\"),\n",
    "            f\"_pyt{pyt_version_str}\"\n",
    "        ])\n",
    "        !pip install pytorch3d -f https://dl.fbaipublicfiles.com/pytorch3d/packaging/wheels/{version_str}/download.html\n",
    "    else:\n",
    "        # We try to install PyTorch3D from source.\n",
    "        !curl -LO https://github.com/NVIDIA/cub/archive/1.10.0.tar.gz\n",
    "        !tar xzf 1.10.0.tar.gz\n",
    "        os.environ[\"CUB_HOME\"] = os.getcwd() + \"/cub-1.10.0\"\n",
    "        !pip install 'git+https://github.com/facebookresearch/pytorch3d.git'\n"
   ]
  },
  {
   "cell_type": "code",
   "execution_count": 2,
   "metadata": {
    "colab": {
     "base_uri": "https://localhost:8080/",
     "height": 374
    },
    "id": "nX99zdoffBLg",
    "outputId": "6c0b2cad-ab42-413f-91d8-d2bec417f27d",
    "pycharm": {
     "name": "#%%\n"
    }
   },
   "outputs": [],
   "source": [
    "import os\n",
    "import torch\n",
    "import matplotlib.pyplot as plt\n",
    "%matplotlib inline\n",
    "\n",
    "\n",
    "from pytorch3d.utils import ico_sphere\n",
    "import numpy as np\n",
    "from tqdm.notebook import tqdm\n",
    "\n",
    "# Util function for loading meshes\n",
    "from pytorch3d.io import load_objs_as_meshes, save_obj\n",
    "\n",
    "from pytorch3d.loss import (\n",
    "    chamfer_distance, \n",
    "    mesh_edge_loss, \n",
    "    mesh_laplacian_smoothing, \n",
    "    mesh_normal_consistency,\n",
    ")\n",
    "\n",
    "# Data structures and functions for rendering\n",
    "from pytorch3d.structures import Meshes\n",
    "from pytorch3d.renderer import (\n",
    "    look_at_view_transform,\n",
    "    OpenGLPerspectiveCameras, \n",
    "    PointLights, \n",
    "    DirectionalLights, \n",
    "    Materials, \n",
    "    RasterizationSettings, \n",
    "    MeshRenderer, \n",
    "    MeshRasterizer,  \n",
    "    SoftPhongShader,\n",
    "    SoftSilhouetteShader,\n",
    "    SoftPhongShader,\n",
    "    TexturesVertex,\n",
    "    AmbientLights\n",
    ")\n",
    "\n",
    "# add path for demo utils functions \n",
    "import sys\n",
    "import os\n",
    "sys.path.append(os.path.abspath(''))\n",
    "\n",
    "import wandb\n",
    "\n"
   ]
  },
  {
   "cell_type": "markdown",
   "metadata": {
    "id": "Lxmehq6Zhrzv",
    "pycharm": {
     "name": "#%% md\n"
    }
   },
   "source": [
    "If using **Google Colab**, fetch the utils file for plotting image grids:"
   ]
  },
  {
   "cell_type": "code",
   "execution_count": 3,
   "metadata": {
    "id": "HZozr3Pmho-5",
    "pycharm": {
     "name": "#%%\n"
    }
   },
   "outputs": [],
   "source": [
    "# !wget https://raw.githubusercontent.com/facebookresearch/pytorch3d/main/docs/tutorials/utils/plot_image_grid.py\n",
    "# from plot_image_grid import image_grid"
   ]
  },
  {
   "cell_type": "markdown",
   "metadata": {
    "id": "g4B62MzYiJUM",
    "pycharm": {
     "name": "#%% md\n"
    }
   },
   "source": [
    "OR if running **locally** uncomment and run the following cell:"
   ]
  },
  {
   "cell_type": "code",
   "execution_count": 5,
   "metadata": {
    "id": "paJ4Im8ahl7O",
    "pycharm": {
     "name": "#%%\n"
    },
    "tags": []
   },
   "outputs": [],
   "source": [
    " from plot_image_grid import image_grid"
   ]
  },
  {
   "cell_type": "markdown",
   "metadata": {
    "id": "5jGq772XfBLk",
    "pycharm": {
     "name": "#%% md\n"
    }
   },
   "source": [
    "### 1. Load a mesh and texture file\n",
    "\n",
    "Load an `.obj` file and its associated `.mtl` file and create a **Textures** and **Meshes** object. \n",
    "\n",
    "**Meshes** is a unique datastructure provided in PyTorch3D for working with batches of meshes of different sizes. \n",
    "\n",
    "**TexturesVertex** is an auxiliary datastructure for storing vertex rgb texture information about meshes. \n",
    "\n",
    "**Meshes** has several class methods which are used throughout the rendering pipeline."
   ]
  },
  {
   "cell_type": "markdown",
   "metadata": {
    "id": "a8eU4zo5jd_H",
    "pycharm": {
     "name": "#%% md\n"
    }
   },
   "source": [
    "If running this notebook using **Google Colab**, run the following cell to fetch the mesh obj and texture files and save it at the path `data/cow_mesh`:\n",
    "If running locally, the data is already available at the correct path. "
   ]
  },
  {
   "cell_type": "code",
   "execution_count": 7,
   "metadata": {
    "id": "gi5Kd0GafBLl",
    "pycharm": {
     "name": "#%%\n"
    }
   },
   "outputs": [
    {
     "name": "stdout",
     "output_type": "stream",
     "text": [
      "0\n"
     ]
    }
   ],
   "source": [
    "# Setup\n",
    "print(torch.cuda.current_device())\n",
    "if torch.cuda.is_available():\n",
    "    device = torch.device(\"cuda:1\")\n",
    "    torch.cuda.set_device(device)\n",
    "else:\n",
    "    device = torch.device(\"cpu\")\n",
    "\n"
   ]
  },
  {
   "cell_type": "code",
   "execution_count": 8,
   "metadata": {
    "collapsed": false,
    "jupyter": {
     "outputs_hidden": false
    },
    "pycharm": {
     "name": "#%%\n"
    }
   },
   "outputs": [
    {
     "name": "stdout",
     "output_type": "stream",
     "text": [
      "FoVPerspectiveCameras()\n",
      "FoVPerspectiveCameras()\n",
      "20\n",
      "2\n"
     ]
    }
   ],
   "source": [
    "# the number of different viewpoints from which we want to render the mesh.\n",
    "num_views = 20\n",
    "\n",
    "# Get a batch of viewing angles. \n",
    "\n",
    "#tohle jsou 2 hodnoty, ktere upravuji odkud se na objekt divam\n",
    "#jedna se hybe \"zprava doleva\", druha se hybe \"zespod nahoru\"\n",
    "elev = torch.linspace(0, 360, num_views)\n",
    "azim = torch.linspace(-180, 180, num_views)\n",
    "\n",
    "\n",
    "# Place a point light in front of the object. As mentioned above, the front of \n",
    "# the cow is facing the -z direction.\n",
    "\n",
    "#nastaveni svetel, pri reseni hodnot textury mimo 0-1 zkousim zmenit nastaveni svetel:\n",
    "\n",
    "lights = PointLights(device=device, location=[[0.0, 0.0, -3.0]])\n",
    "# lights = AmbientLights(device=device)\n",
    "\n",
    "\n",
    "# Initialize an OpenGL perspective camera that represents a batch of different \n",
    "# viewing angles. All the cameras helper methods support mixed type inputs and \n",
    "# broadcasting. So we can view the camera from the a distance of dist=2.7, and \n",
    "# then specify elevation and azimuth angles for each viewpoint as tensors. \n",
    "R, T = look_at_view_transform(dist=2.7, elev=elev, azim=azim)\n",
    "\n",
    "cameras = OpenGLPerspectiveCameras(device=device, R=R, T=T)\n",
    "\n",
    "# We arbitrarily choose one particular view that will be used to visualize \n",
    "# results\n",
    "camera = OpenGLPerspectiveCameras(device=device, R=R[None, 1, ...], \n",
    "                                  T=T[None, 1, ...]) \n",
    "\n",
    "# Define the settings for rasterization and shading. Here we set the output \n",
    "# image to be of size 128X128. As we are rendering images for visualization \n",
    "# purposes only we will set faces_per_pixel=1 and blur_radius=0.0. Refer to \n",
    "# rasterize_meshes.py for explanations of these parameters.  We also leave \n",
    "# bin_size and max_faces_per_bin to their default values of None, which sets \n",
    "# their values using heuristics and ensures that the faster coarse-to-fine \n",
    "# rasterization method is used.  Refer to docs/notes/renderer.md for an \n",
    "# explanation of the difference between naive and coarse-to-fine rasterization. \n",
    "# raster_settings = RasterizationSettings(\n",
    "#     image_size=128, \n",
    "#     blur_radius=0.0, \n",
    "#     faces_per_pixel=1, \n",
    "# )\n",
    "\n",
    "# # Create a Phong renderer by composing a rasterizer and a shader. The textured \n",
    "# # Phong shader will interpolate the texture uv coordinates for each vertex, \n",
    "# # sample from a texture image and apply the Phong lighting model\n",
    "# renderer = MeshRenderer(\n",
    "#     rasterizer=MeshRasterizer(\n",
    "#         cameras=camera, \n",
    "#         raster_settings=raster_settings\n",
    "#     ),\n",
    "#     shader=SoftPhongShader(\n",
    "#         device=device, \n",
    "#         cameras=camera,\n",
    "#         lights=lights\n",
    "#     )\n",
    "# )\n",
    "\n",
    "sigma = 1e-4\n",
    "raster_settings_soft = RasterizationSettings(\n",
    "    image_size=128, \n",
    "    blur_radius=np.log(1. / 1e-4 - 1.)*sigma, \n",
    "    faces_per_pixel=50, \n",
    "    perspective_correct=False,\n",
    "    max_faces_per_bin=500000\n",
    ")\n",
    "\n",
    "\n",
    "# Differentiable soft renderer using per vertex RGB colors for texture\n",
    "renderer_textured = MeshRenderer(\n",
    "    rasterizer=MeshRasterizer(\n",
    "        cameras=camera, \n",
    "        raster_settings=raster_settings_soft\n",
    "    ),\n",
    "    shader=SoftPhongShader(device=device, \n",
    "        cameras=camera,\n",
    "        lights=lights)\n",
    ")\n",
    "\n",
    "print(cameras)\n",
    "\n",
    "print(cameras[0])\n",
    "\n",
    "print(len(cameras))\n",
    "print(len(cameras[[0,1]]))\n",
    "import random\n",
    "\n",
    "a = cameras[random.sample(range(num_views), 2)]\n",
    "\n",
    "# print(len())\n",
    "\n"
   ]
  },
  {
   "cell_type": "code",
   "execution_count": null,
   "metadata": {
    "collapsed": false,
    "jupyter": {
     "outputs_hidden": false
    },
    "pycharm": {
     "name": "#%%\n"
    }
   },
   "outputs": [],
   "source": [
    "    \n",
    "def checkerboard_texture(device):\n",
    "    texture = np.indices((1024,1024)).sum(axis=0) % 2\n",
    "    texture = np.repeat(texture[:, :, np.newaxis], 3, axis=2)\n",
    "    texture = np.expand_dims(texture, axis=0)\n",
    "    texture = texture.astype(np.float32)\n",
    "    return torch.tensor(texture, device=device, requires_grad=True)\n",
    "\n",
    "def homogeneous_texture(value, device):\n",
    "    return torch.full((1, 1024,1024, 3), value, device=device, requires_grad=True)\n",
    "\n",
    "def uniform_distribution_texture(device):\n",
    "    texture = torch.rand((1,1024,1024,3), device=device, requires_grad=True)\n",
    "    return texture\n",
    "    \n",
    "    \n",
    "def visualize_texture(tex):\n",
    "    to_vis = torch.squeeze(tex)\n",
    "    plt.imshow(to_vis.detach().cpu().numpy())\n",
    "    plt.show()\n",
    "    "
   ]
  },
  {
   "cell_type": "markdown",
   "metadata": {
    "pycharm": {
     "name": "#%% md\n"
    }
   },
   "source": [
    "## 2. Dataset Creation\n",
    "\n",
    "We sample different camera positions that encode multiple viewpoints of the cow.  We create a renderer with a shader that performs texture map interpolation.  We render a synthetic dataset of images of the textured cow mesh from multiple viewpoints.\n"
   ]
  },
  {
   "cell_type": "code",
   "execution_count": null,
   "metadata": {
    "collapsed": false,
    "jupyter": {
     "outputs_hidden": false
    },
    "pycharm": {
     "name": "#%%\n"
    }
   },
   "outputs": [],
   "source": [
    "# Path to dataset\n",
    "DATA_DIR = \"/projects/3DDatasets/3D-FUTURE/3D-FUTURE-model\"\n",
    "\n",
    "data_to_load = [] \n",
    "\n",
    "for dire in os.listdir(DATA_DIR):\n",
    "    obj_filename = os.path.join(DATA_DIR, dire, 'normalized_model.obj')\n",
    "    if dire[0] != '.':\n",
    "        data_to_load.append(obj_filename)\n",
    "    \n",
    "\n",
    "# obj_filename = os.path.join(DATA_DIR, \"test2/normalized_model.obj\")\n",
    "\n",
    "def load_mesh_and_target_rgb(obj_filename):\n",
    "    # Load obj file\n",
    "    mesh = load_objs_as_meshes([obj_filename], device=device)\n",
    "\n",
    "\n",
    "\n",
    "    \n",
    "    # print(sys.getsizeof(mesh))\n",
    "\n",
    "\n",
    "\n",
    "    # We scale normalize and center the target mesh to fit in a sphere of radius 1 \n",
    "    # centered at (0,0,0). (scale, center) will be used to bring the predicted mesh \n",
    "    # to its original center and scale.  Note that normalizing the target mesh, \n",
    "    # speeds up the optimization but is not necessary!\n",
    "    verts = mesh.verts_packed()\n",
    "    N = verts.shape[0]\n",
    "    center = verts.mean(0)\n",
    "    scale = max((verts - center).abs().max(0)[0])\n",
    "    mesh.offset_verts_(-center)\n",
    "    mesh.scale_verts_((1.0 / float(scale)))\n",
    "    \n",
    "    \n",
    "    # Create a batch of meshes by repeating the cow mesh and associated textures. \n",
    "    # Meshes has a useful `extend` method which allows us do this very easily. \n",
    "    # This also extends the textures. \n",
    "    meshes = mesh.extend(num_views)\n",
    "\n",
    "    # Render the cow mesh from each viewing angle\n",
    "    target_images = renderer_textured(meshes, cameras=cameras, lights=lights)\n",
    "    \n",
    "\n",
    "\n",
    "    # Our multi-view cow dataset will be represented by these 2 lists of tensors,\n",
    "    # each of length num_views.\n",
    "    #list 20 tensoru [128,128,4]\n",
    "    target_rgb = [target_images[i, ..., :3] for i in range(num_views)]\n",
    "    #\n",
    "    # target_cameras = [OpenGLPerspectiveCameras(device=device, R=R[None, i, ...],\n",
    "    #                                        T=T[None, i, ...]) for i in range(num_views)]\n",
    "\n",
    "\n",
    "    return mesh, target_rgb\n",
    "\n",
    "\n",
    "# print(type(camera))\n",
    "# # _, target_images, _ = load_mesh_and_target_rgb('/projects/3DDatasets/3D-FUTURE/3D-FUTURE-model/0d3e3b3c-3f1a-47ee-8566-1052cb8635b6/normalized_model.obj')\n",
    "# _, target_images = load_mesh_and_target_rgb('my_data/dataset/0d3e3b3c-3f1a-47ee-8566-1052cb8635b6/normalized_model.obj')\n",
    "\n",
    "# print(type(target_images))\n",
    "# data = [target_images[i, ..., :3] for i in range(num_views)]\n",
    "\n",
    "\n",
    "# visualize_texture(data[0])\n",
    "\n",
    "\n"
   ]
  },
  {
   "cell_type": "code",
   "execution_count": null,
   "metadata": {
    "collapsed": false,
    "jupyter": {
     "outputs_hidden": false
    },
    "pycharm": {
     "name": "#%%\n"
    }
   },
   "outputs": [],
   "source": [
    "print(data_to_load[0])"
   ]
  },
  {
   "cell_type": "code",
   "execution_count": null,
   "metadata": {
    "collapsed": false,
    "jupyter": {
     "outputs_hidden": false
    },
    "pycharm": {
     "name": "#%%\n"
    }
   },
   "outputs": [],
   "source": [
    "import pickle\n",
    "\n",
    "print(len(data_to_load))\n",
    "wrong_data = []\n",
    "i = 0\n",
    "for index,data_name in enumerate(data_to_load):\n",
    "    if index % 50 == 0:\n",
    "        with open(\"checkpoints.txt\", \"a\") as fp:\n",
    "            fp.write(str(index) + '\\n')\n",
    "    torch.cuda.empty_cache()\n",
    "    try:\n",
    "        _, data, _ = load_mesh_and_target_rgb(data_name)\n",
    "    except Exception as e: \n",
    "        with open(\"exceptions.txt\", \"a\") as fp:\n",
    "            fp.write(str(e) + '\\n\\n\\n')\n",
    "        wrong_data.append(data_name)\n",
    "        continue\n",
    "\n",
    "\n",
    "with open(\"nerenderovatelne.txt\", \"wb\") as fp:\n",
    "    pickle.dump(wrong_data, fp)\n",
    "    "
   ]
  },
  {
   "cell_type": "code",
   "execution_count": null,
   "metadata": {
    "collapsed": false,
    "jupyter": {
     "outputs_hidden": false
    },
    "pycharm": {
     "name": "#%%\n"
    }
   },
   "outputs": [],
   "source": [
    "import pickle\n"
   ]
  },
  {
   "cell_type": "code",
   "execution_count": null,
   "metadata": {
    "collapsed": false,
    "jupyter": {
     "outputs_hidden": false
    },
    "pycharm": {
     "name": "#%%\n"
    }
   },
   "outputs": [],
   "source": [
    "print(type(data[0]))"
   ]
  },
  {
   "cell_type": "markdown",
   "metadata": {
    "pycharm": {
     "name": "#%% md\n"
    }
   },
   "source": [
    "Visualize the dataset:"
   ]
  },
  {
   "cell_type": "code",
   "execution_count": null,
   "metadata": {
    "collapsed": false,
    "jupyter": {
     "outputs_hidden": false
    },
    "pycharm": {
     "name": "#%%\n"
    }
   },
   "outputs": [],
   "source": [
    "image_grid(target_images.cpu().detach().numpy(), rows=4, cols=5, rgb=True)\n",
    "plt.show()"
   ]
  },
  {
   "cell_type": "markdown",
   "metadata": {
    "pycharm": {
     "name": "#%% md\n"
    }
   },
   "source": [
    "Later in this tutorial, we will fit a mesh to the rendered RGB images, as well as to just images of just the cow silhouette.  For the latter case, we will render a dataset of silhouette images.  Most shaders in PyTorch3D will output an alpha channel along with the RGB image as a 4th channel in an RGBA image.  The alpha channel encodes the probability that each pixel belongs to the foreground of the object.  We construct a soft silhouette shader to render this alpha channel."
   ]
  },
  {
   "cell_type": "markdown",
   "metadata": {
    "pycharm": {
     "name": "#%% md\n"
    }
   },
   "source": [
    "## 3. Mesh prediction via silhouette rendering\n",
    "In the previous section, we created a dataset of images of multiple viewpoints of a cow.  In this section, we predict a mesh by observing those target images without any knowledge of the ground truth cow mesh.  We assume we know the position of the cameras and lighting.\n",
    "\n",
    "We first define some helper functions to visualize the results of our mesh prediction:"
   ]
  },
  {
   "cell_type": "code",
   "execution_count": null,
   "metadata": {
    "collapsed": false,
    "jupyter": {
     "outputs_hidden": false
    },
    "pycharm": {
     "name": "#%%\n"
    }
   },
   "outputs": [],
   "source": [
    "# Show a visualization comparing the rendered predicted mesh to the ground truth \n",
    "# mesh\n",
    "def visualize_prediction(predicted_mesh, renderer, \n",
    "                         target_image, title='', \n",
    "                         silhouette=False):\n",
    "    inds = 3 if silhouette else range(3)\n",
    "    with torch.no_grad():\n",
    "        predicted_images = renderer(predicted_mesh)\n",
    "    plt.figure(figsize=(20, 10))\n",
    "    plt.subplot(1, 2, 1)\n",
    "    plt.imshow(predicted_images[0, ..., inds].cpu().detach().numpy())\n",
    "\n",
    "    plt.subplot(1, 2, 2)\n",
    "    plt.imshow(target_image.cpu().detach().numpy())\n",
    "    plt.title(title)\n",
    "    plt.axis(\"off\")\n",
    "\n",
    "# Plot losses as a function of optimization iteration\n",
    "def plot_losses(losses):\n",
    "    fig = plt.figure(figsize=(13, 5))\n",
    "    ax = fig.gca()\n",
    "    for k, l in losses.items():\n",
    "        ax.plot(l['values'], label=k + \" loss\")\n",
    "    ax.legend(fontsize=\"16\")\n",
    "    ax.set_xlabel(\"Iteration\", fontsize=\"16\")\n",
    "    ax.set_ylabel(\"Loss\", fontsize=\"16\")\n",
    "    ax.set_title(\"Loss vs iterations\", fontsize=\"16\")\n",
    "    "
   ]
  },
  {
   "cell_type": "markdown",
   "metadata": {
    "pycharm": {
     "name": "#%% md\n"
    }
   },
   "source": [
    "Starting from a sphere mesh, we will learn offsets of each vertex such that the predicted mesh silhouette is more similar to the target silhouette image at each optimization step.  We begin by loading our initial sphere mesh:"
   ]
  },
  {
   "cell_type": "markdown",
   "metadata": {
    "pycharm": {
     "name": "#%% md\n"
    }
   },
   "source": [
    "We create a new differentiable renderer for rendering the silhouette of our predicted mesh:"
   ]
  },
  {
   "cell_type": "markdown",
   "metadata": {
    "pycharm": {
     "name": "#%% md\n"
    }
   },
   "source": [
    "We initialize settings, losses, and the optimizer that will be used to iteratively fit our mesh to the target silhouettes:"
   ]
  },
  {
   "cell_type": "markdown",
   "metadata": {
    "pycharm": {
     "name": "#%% md\n"
    }
   },
   "source": [
    "We write an optimization loop to iteratively refine our predicted mesh from the sphere mesh into a mesh that matches the silhouettes of the target images:"
   ]
  },
  {
   "cell_type": "markdown",
   "metadata": {
    "pycharm": {
     "name": "#%% md\n"
    }
   },
   "source": [
    "## 3. Mesh and texture prediction via textured rendering\n",
    "We can predict both the mesh and its texture if we add an additional loss based on the comparing a predicted rendered RGB image to the target image. As before, we start with a sphere mesh.  We learn both translational offsets and RGB texture colors for each vertex in the sphere mesh.  Since our loss is based on rendered RGB pixel values instead of just the silhouette, we use a **SoftPhongShader** instead of a **SoftSilhouetteShader**."
   ]
  },
  {
   "cell_type": "markdown",
   "metadata": {
    "pycharm": {
     "name": "#%% md\n"
    }
   },
   "source": [
    "We initialize settings, losses, and the optimizer that will be used to iteratively fit our mesh to the target RGB images:"
   ]
  },
  {
   "cell_type": "markdown",
   "metadata": {
    "pycharm": {
     "name": "#%% md\n"
    }
   },
   "source": [
    "Initial texture\n",
    "3 functions defining possible start textures"
   ]
  },
  {
   "cell_type": "code",
   "execution_count": null,
   "metadata": {
    "collapsed": false,
    "jupyter": {
     "outputs_hidden": false
    },
    "pycharm": {
     "name": "#%%\n"
    }
   },
   "outputs": [],
   "source": [
    "\n",
    "def checkerboard_texture(device):\n",
    "    texture = np.indices((64,64)).sum(axis=0) % 2\n",
    "    texture = np.repeat(texture[:, :, np.newaxis], 3, axis=2)\n",
    "    texture = np.expand_dims(texture, axis=0)\n",
    "    texture = texture.astype(np.float32)\n",
    "    return torch.tensor(texture, device=device, requires_grad=True)\n",
    "\n",
    "def homogeneous_texture(value, device):\n",
    "    return torch.full((1, 600,600, 3), value, device=device, requires_grad=True)\n",
    "\n",
    "def uniform_distribution_texture(device):\n",
    "    texture = torch.rand((1,1024,1024,3), device=device, requires_grad=True)\n",
    "    return texture\n",
    "    \n",
    "    \n",
    "def visualize_texture(tex):\n",
    "    to_vis = torch.squeeze(tex)\n",
    "    plt.imshow(to_vis.detach().cpu().numpy())\n",
    "    plt.show()\n",
    "    \n",
    "\n",
    "\n",
    "def visualize_target(i):\n",
    "    ith_rgb_img = target_rgb[i]\n",
    "    plt.imshow(ith_rgb_img.cpu().detach().numpy())\n",
    "    plt.show()\n",
    "\n",
    "def visualize_mesh(cam_id=1):\n",
    "    test = renderer_textured(mesh, cameras=target_cameras[cam_id], lights=lights)\n",
    "    plt.imshow(torch.squeeze(test).cpu().detach().numpy()[..., :3])\n",
    "    plt.show()\n",
    "\n",
    "\n",
    "origin_texture = checkerboard_texture(device)\n",
    "visualize_texture(origin_texture)\n",
    "\n"
   ]
  },
  {
   "cell_type": "markdown",
   "metadata": {
    "pycharm": {
     "name": "#%% md\n"
    }
   },
   "source": [
    "Optimization - hyperparameter tuning."
   ]
  },
  {
   "cell_type": "code",
   "execution_count": null,
   "metadata": {
    "collapsed": false,
    "jupyter": {
     "outputs_hidden": false
    },
    "pycharm": {
     "name": "#%%\n"
    }
   },
   "outputs": [],
   "source": [
    "\n",
    "# Number of views to optimize over in each SGD iteration\n",
    "num_views_per_iteration = num_views\n",
    "# Number of optimization steps\n",
    "\n",
    "Niter = 100000\n",
    "\n",
    "exec_time = 180\n",
    "\n",
    "learning_rate = 1.0\n",
    "momentum = 0.9\n",
    "\n",
    "loss_rgb_mult = 30000.0\n",
    "loss_penalization_mult = 0.27\n",
    "\n",
    "'''\n",
    "LOSS function\n",
    "\n",
    "rgb loss: computes MSE between target view and view rendered with predicted texture\n",
    "\n",
    "penalization loss: the optimization might be ambiguous, probably because the final rasterization is averageing colours, so the colors \n",
    "in texture can have RGB components out of range 0-1 for floats, so I use also loss to penalize values out of desired rgb range\n",
    "\n",
    "'''\n",
    "\n",
    "losses = {\"rgb\": {\"weight\": loss_rgb_mult, \"values\": []}, \"penalization\": {\"weight\": loss_penalization_mult, \"values\": []}}\n",
    "\n",
    "def texture_and_optimizer():\n",
    "    texture = checkerboard_texture(device)\n",
    "    optimizer = torch.optim.SGD([texture], lr = learning_rate, momentum=momentum)\n",
    "    return texture, optimizer\n",
    "\n",
    "'''\n",
    "Parameter grid\n",
    "\n",
    "All combinations of parameters will be tried. Time complexity grows exponentially with number of parameters. \n",
    "\n",
    "'''\n",
    "param_grid = {\n",
    "             \"loss_rgb\" : [30000, 25000, 40000, 50000, 100000], \n",
    "             \"loss_penalization\" : [0.3, 0.5, 0.4, 0.8, 1]\n",
    "             }\n",
    "\n",
    "\n",
    "keys, values = zip(*param_grid.items())\n",
    "permutations_dicts = [dict(zip(keys, v)) for v in itertools.product(*values)]\n",
    "\n",
    "\n",
    "results = torch.empty(len(permutations_dicts), len(losses) * len(data_to_load), requires_grad=False)\n",
    "\n",
    "a_file = open(\"param_dict.json\", \"w\")\n",
    "json.dump(permutations_dicts, a_file)\n",
    "a_file.close()\n",
    "\n",
    "\n",
    "\n",
    "\n"
   ]
  },
  {
   "cell_type": "code",
   "execution_count": null,
   "metadata": {
    "collapsed": false,
    "jupyter": {
     "outputs_hidden": false
    },
    "pycharm": {
     "name": "#%%\n"
    }
   },
   "outputs": [],
   "source": [
    "\n",
    "row_index = 0\n",
    "\n",
    "\n",
    "for params in permutations_dicts:\n",
    "    loss_rgb_mult = params[\"loss_rgb\"]\n",
    "    loss_penalization_mult  = params[\"loss_penalization\"]\n",
    "    # learning_rate = params[\"learning_rate\"]\n",
    "    # momentum = params[\"momentum\"]\n",
    "    column_index = 0\n",
    "    \n",
    "    print(params)\n",
    "    \n",
    "    for data in data_to_load:\n",
    "        \n",
    "        print(data)\n",
    "        outF = open(\"checkpoints.txt\", \"a\")\n",
    "        outF.write(data)\n",
    "        outF.write('\\n')\n",
    "        outF.close()\n",
    "\n",
    "        loop = tqdm(range(Niter))\n",
    "\n",
    "        # wandb.init(project=\"generating-textures-with-a-gan\", \n",
    "        #            config = {\n",
    "        #               \"object\" : \"test2\",\n",
    "        #               \"learning_rate\": learning_rate,\n",
    "        #               \"momentum:\": momentum,\n",
    "        #               \"epochs\": Niter,\n",
    "        #               \"loss_rgb_mult\": loss_rgb_mult, \n",
    "        #               \"loss_penalization_mult\": loss_penalization_mult,\n",
    "        #               \"data_name\" : data\n",
    "        #             }\n",
    "        #           )\n",
    "\n",
    "        origin_texture, my_optimizer = texture_and_optimizer()\n",
    "\n",
    "        mesh, target_images = load_mesh_and_target_rgb(data)\n",
    "\n",
    "        print(len(target_images))\n",
    "        break\n",
    "\n",
    "\n",
    "        target_rgb = [target_images[i, ..., :3] for i in range(num_views)]\n",
    "        start_time = time.time()\n",
    "        \n",
    "\n",
    "        for i in loop:\n",
    "            my_optimizer.zero_grad()\n",
    "            \n",
    "            #mesh namapuji na novou texturu\n",
    "            mesh.textures._maps_padded = origin_texture\n",
    "\n",
    "\n",
    "            # Losses to smooth /regularize the mesh shape\n",
    "            #tohle jen vytvori tensor ke kazdemu druhu loss\n",
    "            #{'rgb': tensor(0., device='cuda:0'), 'silhouette': tensor(0., device='cuda:0'), 'edge': tensor(0., device='cuda:0'), \n",
    "            #'normal': tensor(0., device='cuda:0'), 'laplacian': tensor(0., device='cuda:0')}\n",
    "            loss = {k: torch.tensor(0.0, device=device) for k in losses}\n",
    "\n",
    "\n",
    "            # update_mesh_shape_prior_losses(mesh, loss)\n",
    "\n",
    "            # Randomly select two views to optimize over in this iteration.  Compared\n",
    "            # to using just one view, this helps resolve ambiguities between updating\n",
    "            # mesh shape vs. updating mesh texture\n",
    "            for j in np.random.permutation(num_views).tolist():\n",
    "\n",
    "                #vyrendderuji j-ty pohled\n",
    "                images_predicted = renderer_textured(mesh, cameras=target_cameras[j], lights=lights)\n",
    "\n",
    "                # Squared L2 distance between the predicted RGB image and the target \n",
    "                # image from our dataset\n",
    "\n",
    "                #odeberu alfa dimenzi\n",
    "                predicted_rgb = images_predicted[..., :3]\n",
    "\n",
    "\n",
    "                #compute rgb rgb loss\n",
    "                loss_rgb = ((predicted_rgb - target_rgb[j]) ** 2).mean()\n",
    "                loss[\"rgb\"] += loss_rgb / num_views_per_iteration\n",
    "\n",
    "                #compute loss of values below 0\n",
    "                penalization_bellow_0 = origin_texture[origin_texture<0.0]\n",
    "                penalization_bellow_0 = -torch.sum(penalization_bellow_0)\n",
    "\n",
    "                #compute loss of values above 1\n",
    "                penalization_above_1 = origin_texture[origin_texture>1.0]\n",
    "                penalization_above_1 = torch.sum(penalization_above_1 - 1)\n",
    "\n",
    "                #add those two losses together and normalize\n",
    "                penalization = penalization_bellow_0 + penalization_above_1\n",
    "                loss[\"penalization\"] = penalization/num_views_per_iteration\n",
    "\n",
    "\n",
    "            #Weighted sum of the losses\n",
    "            sum_loss = torch.tensor(0.0, device=device)\n",
    "            for k, l in loss.items():\n",
    "                sum_loss += l * losses[k][\"weight\"]\n",
    "                losses[k][\"values\"].append(float(l.detach().cpu()))\n",
    "\n",
    "            # wandb.log({\"loss_rgb\": loss[\"rgb\"], \"loss_penalization\": loss[\"penalization\"], \"sum_loss\": sum_loss.item()})\n",
    "\n",
    "\n",
    "            # Print the losses\n",
    "            loop.set_description(\"total_loss = %.6f\" % sum_loss)\n",
    "\n",
    "\n",
    "            # Optimization step\n",
    "            sum_loss.backward()\n",
    "            torch.nn.utils.clip_grad_norm_(origin_texture, 0.5)\n",
    "            my_optimizer.step()\n",
    "\n",
    "            if time.time() - start_time > exec_time:\n",
    "                print('Time over')\n",
    "                break\n",
    "\n",
    "            if torch.isinf(sum_loss).item():\n",
    "                print('Infinity loss')\n",
    "                break\n",
    "                \n",
    "        results[row_index, column_index] = loss[\"rgb\"]\n",
    "        results[row_index, column_index + 1] = loss[\"penalization\"]\n",
    "        \n",
    "        column_index += 2\n",
    "        \n",
    "        print(column_index)\n",
    "        \n",
    "    row_index += 1\n",
    "    column_index = 0\n",
    "    \n",
    "torch.save(results, 'results.pt')\n",
    "\n",
    "\n",
    "\n"
   ]
  },
  {
   "cell_type": "code",
   "execution_count": null,
   "metadata": {
    "pycharm": {
     "name": "#%%\n"
    }
   },
   "outputs": [],
   "source": [
    "results = torch.load('my_data/grid_search/results.pt')\n",
    "parameters_list = json.loads(open('my_data/grid_search/param_dict.json', 'r').read())\n"
   ]
  },
  {
   "cell_type": "code",
   "execution_count": null,
   "metadata": {
    "pycharm": {
     "name": "#%%\n"
    }
   },
   "outputs": [],
   "source": [
    "\n",
    "indices_rgb = list(range(0,18,2))\n",
    "indices_penal = list(range(1,18,2))\n",
    "\n",
    "\n",
    "rgb_losses = results[:,indices_rgb]\n",
    "penalization_losses = results[:, indices_penal]\n",
    "\n",
    "print(rgb_losses)\n",
    "\n",
    "\n",
    "\n",
    "normal_rgb = (rgb_losses - torch.min(rgb_losses))/(torch.max(rgb_losses) - torch.min(rgb_losses))\n",
    "normal_penal = (penalization_losses - torch.min(penalization_losses))/(torch.max(penalization_losses) - torch.min(penalization_losses))\n",
    "\n",
    "normal_sum = normal_rgb + normal_penal\n",
    "\n",
    "sum_over_all_data_loss = torch.sum(normal_sum, axis=1)\n",
    "\n",
    "best_params_index = torch.argmin(sum_over_all_data_loss, axis=0)\n",
    "\n",
    "print(parameters_list[best_params_index.item()])\n",
    "\n"
   ]
  },
  {
   "cell_type": "code",
   "execution_count": null,
   "metadata": {
    "pycharm": {
     "name": "#%%\n"
    }
   },
   "outputs": [],
   "source": [
    "lowest_losses_args = torch.argmin(results, axis=1)\n",
    "\n",
    "most_freq = torch.mode(lowest_losses_args)[0].item()\n",
    "print(parameters_list[most_freq])\n",
    "\n",
    "\n",
    "\n",
    "\n"
   ]
  },
  {
   "cell_type": "code",
   "execution_count": null,
   "metadata": {
    "pycharm": {
     "name": "#%%\n"
    }
   },
   "outputs": [],
   "source": []
  },
  {
   "cell_type": "markdown",
   "metadata": {
    "pycharm": {
     "name": "#%% md\n"
    }
   },
   "source": [
    "Optimization settings for ground truth"
   ]
  },
  {
   "cell_type": "code",
   "execution_count": null,
   "metadata": {
    "pycharm": {
     "name": "#%%\n"
    }
   },
   "outputs": [],
   "source": [
    "\n",
    "mesh, target_images, target_cameras = load_mesh_and_target_rgb('my_data/dataset/cow_mesh/normalized_model.obj')\n",
    "target_rgb = [target_images[i, ..., :3] for i in range(num_views)]\n",
    "origin_texture, my_optimizer = texture_and_optimizer()\n",
    "\n",
    "\n",
    "\n",
    "\n",
    "# Number of views to optimize over in each SGD iteration\n",
    "num_views_per_iteration = len(target_rgb)\n",
    "# Number of optimization steps\n",
    "\n",
    "Niter = 300000\n",
    "\n",
    "# Plot period for the losses, saving textures\n",
    "plot_period = 30\n",
    "\n",
    "#max number of iterations when loss has not decreased at least by the variable below\n",
    "#when there is no progress in loss for 'iterations_no_best_loss', I assume the loss has converged\n",
    "iterations_no_best_loss = 500\n",
    "\n",
    "#loss has to decrease by at least byt this rate, otherwise covergence is assumed\n",
    "loss_increased_at_least_by = 0.99\n",
    "\n",
    "learning_rate = 1.0\n",
    "momentum = 0.9\n",
    "\n",
    "loss_rgb_mult = 30000.0\n",
    "loss_penalization_mult = 0.3\n",
    "\n",
    "'''\n",
    "LOSS function:\n",
    "\n",
    "rgb loss: computes MSE between target view and view rendered with predicted texture\n",
    "penalization: the optimization might be ambiguous, probably because the final rasterization is averageing colours, so the colors \n",
    "in texture can have RGB components out of range 0-1 for floats, so I use also loss to penalize values out of desired rgb range\n",
    "\n",
    "'''\n",
    "losses = {\"rgb\": {\"weight\": loss_rgb_mult, \"values\": []}, \"penalization\": {\"weight\": loss_penalization_mult, \"values\": []}}\n",
    "\n",
    "\n",
    "#optimizing only the texture\n",
    "#zkusim vic nahodnych pohledu nebo vypnout momoentum\n",
    "\n",
    "\n",
    "\n",
    "\n"
   ]
  },
  {
   "cell_type": "code",
   "execution_count": null,
   "metadata": {
    "colab": {
     "base_uri": "https://localhost:8080/",
     "height": 236
    },
    "id": "EKEH2p8-R1Rr",
    "outputId": "5e68c27b-eb8f-4a36-90a3-38cdc00e1599",
    "pycharm": {
     "name": "#%%\n"
    }
   },
   "outputs": [],
   "source": [
    "\n",
    "loop = tqdm(range(Niter))\n",
    "current_iterations_without_best_loss = 0\n",
    "best_loss = torch.tensor(float('inf'))\n",
    "# wandb.init(project=\"generating-textures-with-a-gan\", config = {\n",
    "#   \"learning_rate\": learning_rate,\n",
    "#   \"momentum:\": momentum,\n",
    "#   \"epochs\": Niter,\n",
    "#   \"loss_rgb_mult\": loss_rgb_mult, \n",
    "#   \"loss_penalization_mult\": loss_penalization_mult,\n",
    "# })\n",
    "\n",
    "\n",
    "\n",
    "# store_data = \"my_data/predicted/00e4b7dd-08a6-4433-a439-856e4b5de58a/\"\n",
    "\n",
    "# try:\n",
    "#     os.mkdir(store_data)\n",
    "# except:\n",
    "#   print(\"Directory exists.\")\n",
    "\n",
    "# try: \n",
    "#     os.mkdir(store_data + 'textures')\n",
    "# except:\n",
    "#   print(\"Directory exists.\")\n",
    "\n",
    "\n",
    "for i in loop:\n",
    "    my_optimizer.zero_grad()\n",
    "    \n",
    "    #mesh namapuji na novou texturu\n",
    "    mesh.textures._maps_padded = origin_texture\n",
    "\n",
    "    \n",
    "    # Losses to smooth /regularize the mesh shape\n",
    "    #tohle jen vytvori tensor ke kazdemu druhu loss\n",
    "    #{'rgb': tensor(0., device='cuda:0'), 'silhouette': tensor(0., device='cuda:0'), 'edge': tensor(0., device='cuda:0'), \n",
    "    #'normal': tensor(0., device='cuda:0'), 'laplacian': tensor(0., device='cuda:0')}\n",
    "    loss = {k: torch.tensor(0.0, device=device) for k in losses}\n",
    "    \n",
    "\n",
    "    # update_mesh_shape_prior_losses(mesh, loss)\n",
    "\n",
    "    # Randomly select two views to optimize over in this iteration.  Compared\n",
    "    # to using just one view, this helps resolve ambiguities between updating\n",
    "    # mesh shape vs. updating mesh texture\n",
    "    for j in np.random.permutation(num_views).tolist():\n",
    "        \n",
    "        #vyrendderuji j-ty pohled\n",
    "        images_predicted = renderer_textured(mesh, cameras=target_cameras[j], lights=lights)\n",
    "\n",
    "        # Squared L2 distance between the predicted RGB image and the target \n",
    "        # image from our dataset\n",
    "        \n",
    "        #odeberu alfa dimenzi\n",
    "        predicted_rgb = images_predicted[..., :3]\n",
    "                                         \n",
    "                                        \n",
    "        \n",
    "        #spocitam rgb loss\n",
    "        loss_rgb = ((predicted_rgb - target_rgb[j]) ** 2).mean()\n",
    "        loss[\"rgb\"] += loss_rgb / num_views_per_iteration\n",
    "        \n",
    "        \n",
    "        penalization_bellow_0 = origin_texture[origin_texture<0.0]\n",
    "        penalization_bellow_0 = -torch.sum(penalization_bellow_0)\n",
    "        \n",
    "        penalization_above_1 = origin_texture[origin_texture>1.0]\n",
    "        penalization_above_1 = torch.sum(penalization_above_1 - 1)\n",
    "        \n",
    "        penalization = penalization_bellow_0 + penalization_above_1\n",
    "        loss[\"penalization\"] = penalization/num_views_per_iteration\n",
    "        \n",
    "    \n",
    "    #Weighted sum of the losses\n",
    "    sum_loss = torch.tensor(0.0, device=device)\n",
    "    for k, l in loss.items():\n",
    "        sum_loss += l * losses[k][\"weight\"]\n",
    "        losses[k][\"values\"].append(float(l.detach().cpu()))\n",
    "     \n",
    "    # wandb.log({\"loss_rgb\": loss[\"rgb\"], \"loss_penalization\": loss[\"penalization\"], \"sum_loss\": sum_loss.item()})\n",
    "    \n",
    "    if current_iterations_without_best_loss > iterations_no_best_loss:\n",
    "        print(f'Converged at best loss: {best_loss}')\n",
    "        # torch.save(origin_texture, store_data + \"textures/ground_truth.pt\")\n",
    "        # with open(store_data + 'ground_truth_final_iterations.txt', 'w') as f:\n",
    "        #     f.write(str(i))\n",
    "        # break\n",
    "\n",
    "    \n",
    "\n",
    "    # print((sum_loss/ best_loss).item())\n",
    "    if (sum_loss <= best_loss*loss_increased_at_least_by).item():\n",
    "        # print(f'RESET iterations at: {current_iterations_without_best_loss}')\n",
    "        best_loss = sum_loss\n",
    "        current_iterations_without_best_loss = 0\n",
    "\n",
    "    \n",
    "    current_iterations_without_best_loss += 1\n",
    "    \n",
    "    \n",
    "    # Print the losses\n",
    "    loop.set_description(\"total_loss = %.6f\" % sum_loss)\n",
    "    \n",
    "    # Plot mesh\n",
    "    if i % plot_period == 0:\n",
    "        texture_name = 'cow_texture_after_' + str(i) + '_iterations.pt'\n",
    "        # torch.save(origin_texture, store_data + 'textures/' + texture_name)\n",
    "        visualize_prediction(mesh, renderer=renderer_textured, title=\"iter: %d\" % i, silhouette=False, target_image=predicted_rgb[0])\n",
    "        visualize_target(1)\n",
    "        visualize_mesh()\n",
    "        print(torch.max(origin_texture))\n",
    "        print(torch.min(origin_texture))\n",
    "        \n",
    "    # Optimization step\n",
    "    sum_loss.backward()\n",
    "    my_optimizer.step()\n",
    "\n",
    "\n",
    "\n",
    "\n",
    "    \n",
    "\n",
    "\n"
   ]
  },
  {
   "cell_type": "code",
   "execution_count": null,
   "metadata": {
    "pycharm": {
     "name": "#%%\n"
    }
   },
   "outputs": [],
   "source": []
  }
 ],
 "metadata": {
  "accelerator": "GPU",
  "anp_metadata": {
   "path": "fbsource/fbcode/vision/fair/pytorch3d/docs/tutorials/fit_textured_mesh.ipynb"
  },
  "bento_stylesheets": {
   "bento/extensions/flow/main.css": true,
   "bento/extensions/kernel_selector/main.css": true,
   "bento/extensions/kernel_ui/main.css": true,
   "bento/extensions/new_kernel/main.css": true,
   "bento/extensions/system_usage/main.css": true,
   "bento/extensions/theme/main.css": true
  },
  "colab": {
   "collapsed_sections": [],
   "name": "Kopie sešitu fit_textured_mesh.ipynb",
   "provenance": []
  },
  "disseminate_notebook_info": {
   "backup_notebook_id": "781874812352022"
  },
  "kernelspec": {
   "display_name": "Python 3 (ipykernel)",
   "language": "python",
   "name": "python3"
  },
  "language_info": {
   "codemirror_mode": {
    "name": "ipython",
    "version": 3
   },
   "file_extension": ".py",
   "mimetype": "text/x-python",
   "name": "python",
   "nbconvert_exporter": "python",
   "pygments_lexer": "ipython3",
   "version": "3.9.12"
  },
  "vscode": {
   "interpreter": {
    "hash": "cfc61d02488f2262f87d2db3a2475fe3c22089bae4e13026ba4626157a99218a"
   }
  }
 },
 "nbformat": 4,
 "nbformat_minor": 4
}
